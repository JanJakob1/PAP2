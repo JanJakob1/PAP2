{
 "cells": [
  {
   "cell_type": "markdown",
   "metadata": {},
   "source": [
    "<font size=\"+2\"><p style=\"text-align: center;\"><b> Auswertung Versuch 222 PAP 2.1. </p></font>"
   ]
  },
  {
   "cell_type": "markdown",
   "metadata": {},
   "source": [
    "## 3.1 Betrieb als Kältemaschine"
   ]
  },
  {
   "cell_type": "code",
   "execution_count": 7,
   "metadata": {},
   "outputs": [],
   "source": [
    "import numpy as np\n",
    "import matplotlib.pyplot as plt"
   ]
  },
  {
   "cell_type": "code",
   "execution_count": 8,
   "metadata": {},
   "outputs": [
    {
     "name": "stdout",
     "output_type": "stream",
     "text": [
      "(3.883333333333333e-06, ' +-', 5.0000000000000004e-08)\n"
     ]
    }
   ],
   "source": [
    "# Durchflussmenge\n",
    "flow = 233*1e-6/60\n",
    "flow_error = 3*1e-6/60\n",
    "print(flow, \" +-\", flow_error)"
   ]
  },
  {
   "cell_type": "code",
   "execution_count": 9,
   "metadata": {},
   "outputs": [],
   "source": [
    "f = 310.0/60\n",
    "f_error = 5.0/60 "
   ]
  },
  {
   "cell_type": "code",
   "execution_count": 10,
   "metadata": {},
   "outputs": [],
   "source": [
    "Delta_T = 3.25\n",
    "Delta_T_error = 0.28"
   ]
  },
  {
   "cell_type": "code",
   "execution_count": 11,
   "metadata": {},
   "outputs": [],
   "source": [
    "c_W = 4180\n",
    "rho_W = 998"
   ]
  },
  {
   "cell_type": "code",
   "execution_count": 14,
   "metadata": {},
   "outputs": [],
   "source": [
    "U_H = 5.51\n",
    "U_H_error = 0.01\n",
    "I_H = 1.09 * 5\n",
    "I_H_error = 0.01 * 5\n",
    "P_H = U_H*I_H\n",
    "P_H_error = P_H*np.sqrt((I_H_error/I_H)**2 + (U_H_error/U_H)**2)\n",
    "W_H = P_H/f\n",
    "W_H_error = W_H*np.sqrt((P_H_error/P_H)**2 + (f_error/f)**2)"
   ]
  },
  {
   "cell_type": "code",
   "execution_count": 19,
   "metadata": {},
   "outputs": [
    {
     "name": "stdout",
     "output_type": "stream",
     "text": [
      "('Die an das Kuehlwasser abgegebene Waerme betraegt: ', 10.190239967741935, ' +- ', 0.9027661397794005)\n",
      "('Die dem Zylinderkopf entzogene Waerme betraegt: ', 5.81216129032258, ' +- ', 0.10836329767604393)\n",
      "('Differenz beider Waermemengen: ', 4.378078677419355, ' +- ', 0.9092465602989251)\n"
     ]
    }
   ],
   "source": [
    "Q_1 = c_W*rho_W*Delta_T*flow/f\n",
    "Q_1_error = Q_1*np.sqrt((Delta_T_error/Delta_T)**2 + (flow_error/flow)**2 + (f_error/f)**2)\n",
    "Q_2 = W_H\n",
    "Q_2_error = W_H_error\n",
    "print(\"Die an das Kuehlwasser abgegebene Waerme betraegt: \", Q_1, \" +- \", Q_1_error)\n",
    "print(\"Die dem Zylinderkopf entzogene Waerme betraegt: \", Q_2, \" +- \", Q_2_error)\n",
    "print(\"Differenz beider Waermemengen: \", Q_1 - Q_2, \" +- \", np.sqrt(Q_1_error**2 + Q_2_error**2))"
   ]
  },
  {
   "cell_type": "code",
   "execution_count": 20,
   "metadata": {},
   "outputs": [
    {
     "name": "stdout",
     "output_type": "stream",
     "text": [
      "(52.64957316666666, ' +- ', 4.586338330241733)\n"
     ]
    }
   ],
   "source": [
    "# Kälteleistung:\n",
    "P = Q_1*f\n",
    "P_error = P*np.sqrt((Delta_T_error/Delta_T)**2 + (flow_error/flow)**2)\n",
    "print(P, \" +- \", P_error)"
   ]
  },
  {
   "cell_type": "code",
   "execution_count": 21,
   "metadata": {},
   "outputs": [
    {
     "name": "stdout",
     "output_type": "stream",
     "text": [
      "('Motorarbeit: ', 9.795483870967743, ' +- ', 0.49415635763643184)\n"
     ]
    }
   ],
   "source": [
    "# Motorleistung:\n",
    "U_M = 24.1\n",
    "U_M_error = 0.1\n",
    "I_M = 2.1\n",
    "I_M_error = 0.1\n",
    "P_M = U_M*I_M\n",
    "P_M_error = P_M * np.sqrt((U_M_error/U_M)**2 + (I_M_error/I_M)**2)\n",
    "W_M = P_M/f\n",
    "W_M_error = W_M*np.sqrt((P_M_error/P_M)**2 + (f_error/f)**2)\n",
    "print(\"Motorarbeit: \", W_M, \" +- \", W_M_error)"
   ]
  },
  {
   "cell_type": "code",
   "execution_count": 22,
   "metadata": {},
   "outputs": [
    {
     "name": "stdout",
     "output_type": "stream",
     "text": [
      "(5.4174051935483885, ' +- ', 0.47166694872568254)\n"
     ]
    }
   ],
   "source": [
    "diff = W_M + Q_2 - Q_1\n",
    "diff_error = 1/f*np.sqrt((I_M*U_M_error)**2 + (U_M*I_M_error)**2 + (I_H*U_H_error)**2 + (U_H * I_H_error)**2 + (flow*Delta_T_error)**2 + (Delta_T*flow_error)**2 + (diff/f*f_error)**2)\n",
    "print(diff, \" +- \", diff_error)"
   ]
  },
  {
   "cell_type": "code",
   "execution_count": 23,
   "metadata": {},
   "outputs": [
    {
     "name": "stdout",
     "output_type": "stream",
     "text": [
      "('Wirkungsgrad: ', 0.5933511163801619, ' +- ', 0.031911834063763196)\n"
     ]
    }
   ],
   "source": [
    "eta = Q_2/W_M\n",
    "eta_error = eta*np.sqrt((Q_2_error/Q_2)**2 + (W_M_error/W_M)**2)\n",
    "print(\"Wirkungsgrad: \", eta, \" +- \", eta_error)"
   ]
  },
  {
   "cell_type": "markdown",
   "metadata": {},
   "source": [
    "## 3.2 Betrieb als Kältemaschine und Wärmepumpe"
   ]
  },
  {
   "cell_type": "code",
   "execution_count": 25,
   "metadata": {},
   "outputs": [],
   "source": [
    "m_W = 1e-3\n",
    "m_W_error = 1e-4\n",
    "lambda_W = 335e3\n",
    "t = 130\n",
    "t_error = 10"
   ]
  },
  {
   "cell_type": "code",
   "execution_count": 26,
   "metadata": {},
   "outputs": [
    {
     "name": "stdout",
     "output_type": "stream",
     "text": [
      "(0.49875930521091805, ' +- ', 0.04987593052109181)\n"
     ]
    }
   ],
   "source": [
    "Q_1 = m_W*lambda_W/(f*t)\n",
    "Q_1_error = Q_1*np.sqrt((m_W_error/m_W)**2 + (t_error/t)**2)\n",
    "print(Q_1, \" +- \", Q_1_error)"
   ]
  },
  {
   "cell_type": "code",
   "execution_count": 27,
   "metadata": {},
   "outputs": [
    {
     "name": "stdout",
     "output_type": "stream",
     "text": [
      "(2.5769230769230766, ' +- ', 0.04156327543424317)\n"
     ]
    }
   ],
   "source": [
    "P = Q_1*f\n",
    "P_error = P*np.sqrt((f_error/f)**2 + (t_error/t)**2)\n",
    "print(P, \" +- \", P_error)"
   ]
  },
  {
   "cell_type": "markdown",
   "metadata": {},
   "source": [
    "## 3.3 Betrieb als Wärmekraftmaschine"
   ]
  },
  {
   "cell_type": "code",
   "execution_count": 29,
   "metadata": {},
   "outputs": [
    {
     "data": {
      "text/plain": [
       "5.760000000000001"
      ]
     },
     "execution_count": 29,
     "metadata": {},
     "output_type": "execute_result"
    }
   ],
   "source": [
    "# Motordrehzahlen\n",
    "freqs = np.array([345.0, 345.6, 346.2])/60\n",
    "f = np.average(freqs);f"
   ]
  },
  {
   "cell_type": "code",
   "execution_count": 31,
   "metadata": {},
   "outputs": [
    {
     "name": "stdout",
     "output_type": "stream",
     "text": [
      "(3.8499999999999996e-06, ' +-', 5.0166666666666666e-08)\n"
     ]
    }
   ],
   "source": [
    "# Durchflussmengen\n",
    "flow = 231.0*1e-6/60\n",
    "flow_error = 3.01e-6/60\n",
    "print(flow, \" +-\", flow_error)"
   ]
  },
  {
   "cell_type": "code",
   "execution_count": 32,
   "metadata": {},
   "outputs": [
    {
     "name": "stdout",
     "output_type": "stream",
     "text": [
      "('Heizleistung: ', 154.44, ' +- ', 0.6484103638900293)\n"
     ]
    }
   ],
   "source": [
    "U_H = 11.88\n",
    "U_H_error = 0.02\n",
    "I_H = 2.60 * 5\n",
    "I_H_error = 0.01 * 5\n",
    "P_H = U_H*I_H\n",
    "P_H_error = P_H*np.sqrt((I_H_error/I_H)**2 + (U_H_error/U_H)**2)\n",
    "W_H = P_H/f\n",
    "W_H_error = W_H*np.sqrt((P_H_error/P_H)**2 + (f_error/f)**2)\n",
    "print(\"Heizleistung: \", P_H, \" +- \", P_H_error)"
   ]
  },
  {
   "cell_type": "code",
   "execution_count": 33,
   "metadata": {},
   "outputs": [],
   "source": [
    "Delta_T = 25.0 - 19.0"
   ]
  },
  {
   "cell_type": "code",
   "execution_count": 34,
   "metadata": {},
   "outputs": [
    {
     "name": "stdout",
     "output_type": "stream",
     "text": [
      "(1.985133333333333, ' +- ', 0.014615086066826289)\n",
      "(11.434368, ' +- ', 0.18561548856842144)\n"
     ]
    }
   ],
   "source": [
    "W_pVs = np.array([20136, 19897, 19521])*1e2*1e-6\n",
    "W_pV = np.average(W_pVs)\n",
    "W_pV_error = np.std(W_pVs)/np.sqrt(3)\n",
    "print(W_pV, \" +- \", W_pV_error)\n",
    "P_pV = W_pV * f\n",
    "P_pV_error = P_pV * np.sqrt((W_pV_error/W_pV)**2 + (f_error/f)**2)\n",
    "print(P_pV, \" +- \", P_pV_error)"
   ]
  },
  {
   "cell_type": "code",
   "execution_count": 37,
   "metadata": {},
   "outputs": [
    {
     "name": "stdout",
     "output_type": "stream",
     "text": [
      "('Abgefuehrte Waerme Q_ab: ', 16.73001458333333, ' +- ', 0.8459628791566275)\n",
      "('Zugefuehrte Waerme Q_el: ', 26.812499999999996, ' +- ', 0.4039161520409443)\n",
      "('Motorverluste Q_V: ', 8.097352083333334, ' +- ', 0.9375580256876236)\n"
     ]
    }
   ],
   "source": [
    "Q_ab = c_W*rho_W*Delta_T*flow/f\n",
    "Q_ab_error = Q_ab*np.sqrt((Delta_T_error/Delta_T)**2 + (flow_error/flow)**2 + (f_error/f)**2)\n",
    "Q_el = W_H\n",
    "Q_el_error = W_H_error\n",
    "Q_V = Q_el - Q_ab - W_pV\n",
    "Q_V_error = np.sqrt(Q_el_error**2 + Q_ab_error**2 + W_pV_error**2)\n",
    "print(\"Abgefuehrte Waerme Q_ab: \", Q_ab, \" +- \", Q_ab_error)\n",
    "print(\"Zugefuehrte Waerme Q_el: \", Q_el, \" +- \", Q_el_error)\n",
    "print(\"Motorverluste Q_V: \", Q_V, \" +- \", Q_V_error)"
   ]
  },
  {
   "cell_type": "code",
   "execution_count": 38,
   "metadata": {},
   "outputs": [
    {
     "name": "stdout",
     "output_type": "stream",
     "text": [
      "(96.36488399999999, ' +- ', 4.669041795709006)\n"
     ]
    }
   ],
   "source": [
    "P_ab = Q_ab*f\n",
    "P_ab_error = P_ab*np.sqrt((Delta_T_error/Delta_T)**2 + (flow_error/flow)**2)\n",
    "print(P_ab, \" +- \", P_ab_error)"
   ]
  },
  {
   "cell_type": "code",
   "execution_count": 42,
   "metadata": {},
   "outputs": [
    {
     "name": "stdout",
     "output_type": "stream",
     "text": [
      "('Wirkungsgrad: ', 0.07403760683760684, ' +- ', 0.0012414084949504865)\n"
     ]
    }
   ],
   "source": [
    "eta_th = W_pV/Q_el\n",
    "eta_th_error = eta_th*np.sqrt((W_pV_error/W_pV)**2 + (Q_el_error/Q_el)**2)\n",
    "print(\"Wirkungsgrad: \" , eta_th, \" +- \", eta_th_error)"
   ]
  },
  {
   "cell_type": "markdown",
   "metadata": {},
   "source": [
    "## Drehmomentmessung"
   ]
  },
  {
   "cell_type": "code",
   "execution_count": 67,
   "metadata": {},
   "outputs": [],
   "source": [
    "freqs = np.array([\n",
    "    [218.8, 219.0, 216.8],\n",
    "    [259.2, 259.6, 259.3],\n",
    "    [290.4, 289.5, 289.2],\n",
    "    [325.6, 325.3, 326.1]\n",
    "])/60"
   ]
  },
  {
   "cell_type": "code",
   "execution_count": 68,
   "metadata": {},
   "outputs": [
    {
     "name": "stdout",
     "output_type": "stream",
     "text": [
      "('Frequenzen: ', array([3.63666667, 4.32277778, 4.82833333, 5.42777778]))\n",
      "('Frequenzfehler: ', 0.004818862188289385)\n"
     ]
    }
   ],
   "source": [
    "f = np.average(freqs, axis = 1)\n",
    "freqs_errors = np.std(freqs, axis = 1)\n",
    "f_error = np.average(freqs_errors)/np.sqrt(3)\n",
    "print(\"Frequenzen: \", f)\n",
    "print(\"Frequenzfehler: \", f_error)"
   ]
  },
  {
   "cell_type": "code",
   "execution_count": 69,
   "metadata": {},
   "outputs": [
    {
     "name": "stdout",
     "output_type": "stream",
     "text": [
      "('Heizleistung: ', array([42.36021998, 35.66688086, 31.85157059, 28.29647902]))\n",
      "('Heizleistungsfehler: ', array([0.18656431, 0.15497387, 0.13754261, 0.121837  ]))\n"
     ]
    }
   ],
   "source": [
    "I_H = np.array([2.60, 2.60, 2.60, 2.59])*5\n",
    "U_H = np.array([11.85, 11.86, 11.83, 11.86])\n",
    "P_H = I_H * U_H\n",
    "P_H_error = P_H * np.sqrt((I_H_error/I_H)**2 + (U_H_error/U_H)**2)\n",
    "Q_el = P_H/f\n",
    "Q_el_error = Q_el * np.sqrt((P_H_error/P_H)**2 + (f_error/f)**2)\n",
    "print(\"Heizleistung: \", Q_el)\n",
    "print(\"Heizleistungsfehler: \", Q_el_error)"
   ]
  },
  {
   "cell_type": "code",
   "execution_count": 70,
   "metadata": {},
   "outputs": [
    {
     "name": "stdout",
     "output_type": "stream",
     "text": [
      "('mechanische Arbeit: ', array([3.63666667, 4.32277778, 4.82833333, 5.42777778]))\n",
      "('Fehler der mechanischen Arbeit: ', 0.004818862188289385)\n"
     ]
    }
   ],
   "source": [
    "W_pVs = np.array([\n",
    "    [24333, 25089, 24859],\n",
    "    [22572, 23452, 23040],\n",
    "    [21298, 22133, 22165],\n",
    "    [20153, 20527, 20447]\n",
    "])*1e2*1e-6\n",
    "W_pV = np.average(W_pVs, axis = 1)\n",
    "W_pVs_errors = np.std(W_pVs, axis = 1)\n",
    "W_pV_error = np.average(W_pVs_errors)/np.sqrt(3)\n",
    "print(\"mechanische Arbeit: \", f)\n",
    "print(\"Fehler der mechanischen Arbeit: \", f_error)"
   ]
  },
  {
   "cell_type": "code",
   "execution_count": 71,
   "metadata": {},
   "outputs": [
    {
     "name": "stdout",
     "output_type": "stream",
     "text": [
      "('Abgegebene Arbeit: ', array([1.25663706, 0.9424778 , 0.21991149, 0.31415927]))\n",
      "('Fehler der abgegebenen Arbeit: ', array([0.03141593, 0.03141593, 0.03141593, 0.03141593]))\n"
     ]
    }
   ],
   "source": [
    "l = 0.25\n",
    "F = np.array([0.80, 0.60, 0.14, 0.20])\n",
    "F_error = np.repeat(0.02, 4)\n",
    "W_D = 2*np.pi*l*F\n",
    "W_D_error = 2*np.pi*l*F_error\n",
    "print(\"Abgegebene Arbeit: \", W_D)\n",
    "print(\"Fehler der abgegebenen Arbeit: \", W_D_error)"
   ]
  },
  {
   "cell_type": "code",
   "execution_count": 72,
   "metadata": {},
   "outputs": [
    {
     "name": "stdout",
     "output_type": "stream",
     "text": [
      "('Thermischer Wirkungsgrad in Prozent: ', array([5.84518526, 6.45454068, 6.86475829, 7.20077811]))\n",
      "('Fehler des thermischen Wirkungsgrades in Prozent: ', array([0.04942132, 0.05741888, 0.06345525, 0.07035456]))\n"
     ]
    }
   ],
   "source": [
    "eta_th = W_pV/Q_el\n",
    "eta_th_error = eta_th * np.sqrt((W_pV_error/W_pV)**2 + (Q_el_error/Q_el)**2)\n",
    "print(\"Thermischer Wirkungsgrad in Prozent: \", eta_th*100)\n",
    "print(\"Fehler des thermischen Wirkungsgrades in Prozent: \", eta_th_error*100)"
   ]
  },
  {
   "cell_type": "code",
   "execution_count": 73,
   "metadata": {},
   "outputs": [
    {
     "name": "stdout",
     "output_type": "stream",
     "text": [
      "('Effektiver Wirkungsgrad in Prozent: ', array([2.9665499 , 2.64244524, 0.69042588, 1.11024154]))\n",
      "('Fehler des effektiven Wirkungsgrades in Prozent: ', array([0.07530581, 0.08882667, 0.09867732, 0.11112702]))\n"
     ]
    }
   ],
   "source": [
    "eta_eff = W_D/Q_el\n",
    "eta_eff_error = eta_eff * np.sqrt((W_D_error/W_D)**2 + (Q_el_error/Q_el)**2)\n",
    "print(\"Effektiver Wirkungsgrad in Prozent: \", eta_eff*100)\n",
    "print(\"Fehler des effektiven Wirkungsgrades in Prozent: \", eta_eff_error*100)"
   ]
  },
  {
   "cell_type": "code",
   "execution_count": 74,
   "metadata": {},
   "outputs": [
    {
     "data": {
      "image/png": "[encoded data removed]",
      "text/plain": [
       "<Figure size 432x288 with 1 Axes>"
      ]
     },
     "metadata": {
      "needs_background": "light"
     },
     "output_type": "display_data"
    }
   ],
   "source": [
    "plt.plot(f, eta_th, linestyle = 'none', marker = 'x')\n",
    "plt.xlabel(\"Drehfrequenz f [Hz]\")\n",
    "plt.ylabel(\"Thermischer Wirkungsgrad $\\eta_{th}$\")\n",
    "plt.ylim(bottom = 0)\n",
    "plt.title(\"Thermischer Wirkungsgrad in Abhaengigkeit der Drehfrequenz\")\n",
    "plt.savefig('wirkungsgrad_th.pdf')"
   ]
  },
  {
   "cell_type": "code",
   "execution_count": 33,
   "metadata": {},
   "outputs": [
    {
     "data": {
      "image/png": "[encoded data removed]",
      "text/plain": [
       "<Figure size 432x288 with 1 Axes>"
      ]
     },
     "metadata": {
      "needs_background": "light"
     },
     "output_type": "display_data"
    }
   ],
   "source": [
    "plt.plot(f, eta_eff, linestyle = 'none', marker = 'x')\n",
    "plt.xlabel(\"Drehfrequenz f [Hz]\")\n",
    "plt.ylabel(\"Wirkungsgrad $\\eta_{eff}$\")\n",
    "plt.ylim(bottom = 0)\n",
    "plt.savefig('wirkungsgrad_eff.pdf')"
   ]
  }
 ],
 "metadata": {
  "kernelspec": {
   "display_name": "Python 2",
   "language": "python",
   "name": "python2"
  },
  "language_info": {
   "codemirror_mode": {
    "name": "ipython",
    "version": 2
   },
   "file_extension": ".py",
   "mimetype": "text/x-python",
   "name": "python",
   "nbconvert_exporter": "python",
   "pygments_lexer": "ipython2",
   "version": "2.7.17"
  }
 },
 "nbformat": 4,
 "nbformat_minor": 2
}
