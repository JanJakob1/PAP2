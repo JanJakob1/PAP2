{
 "cells": [
  {
   "cell_type": "markdown",
   "metadata": {},
   "source": [
    " <font size=\"+2\"><p style=\"text-align: center;\"><b> Auswertung Versuch 213 PAP 2.1. </p></font>"
   ]
  },
  {
   "cell_type": "code",
   "execution_count": 1,
   "metadata": {},
   "outputs": [],
   "source": [
    "%matplotlib inline\n",
    "import numpy as np\n",
    "from numpy import pi\n",
    "import matplotlib.pyplot as plt\n",
    "from scipy.optimize import curve_fit\n",
    "from scipy.odr import Data, RealData, Model, ODR"
   ]
  },
  {
   "cell_type": "code",
   "execution_count": 2,
   "metadata": {},
   "outputs": [],
   "source": [
    "plt.rc('lines', linewidth = 0.4, marker = '.', markersize = 3, markeredgewidth = 0.4)\n",
    "plt.rc('errorbar', capsize = 2, )"
   ]
  },
  {
   "cell_type": "code",
   "execution_count": 3,
   "metadata": {},
   "outputs": [],
   "source": [
    "g = 9.81"
   ]
  },
  {
   "cell_type": "markdown",
   "metadata": {},
   "source": [
    "# 2) Dämpfung"
   ]
  },
  {
   "cell_type": "code",
   "execution_count": 4,
   "metadata": {},
   "outputs": [],
   "source": [
    "t = np.array([0, 120, 240, 360, 480, 600, 720])\n",
    "Dt = 1\n",
    "f = np.array([705, 645.1, 592.4, 544.3, 501.3, 462.2, 427.0])/60\n",
    "Df = 2.0/60.0\n",
    "om = 2*pi*f\n",
    "Dom = 2*pi*Df"
   ]
  },
  {
   "cell_type": "markdown",
   "metadata": {},
   "source": [
    "Was muss überhaupt gefittet werden?  Geg: x-Input: Zeiten, y-Input: Frequenzen. Man sieht, dass die Frequenz über die Zeit abnimmt -> Dämpfung. Ges: Amplitude A und Dämpfungskonstante Delta. Wie sieht also die zugehörige Funktion aus? Die folgende Funktion om_fit gibt in Abhängigkeit der Zeit t und den Parametern A und Delta eine Frequenz zurück."
   ]
  },
  {
   "cell_type": "code",
   "execution_count": 5,
   "metadata": {},
   "outputs": [],
   "source": [
    "def om_fit(t, A, delta):\n",
    "    return A*np.exp(-delta*t)"
   ]
  },
  {
   "cell_type": "markdown",
   "metadata": {},
   "source": [
    "Da zwei Parameter, A und Delta, gesucht sind, ist die Kovarianzmatrix eine 2x2-Matrix. "
   ]
  },
  {
   "cell_type": "code",
   "execution_count": 6,
   "metadata": {},
   "outputs": [
    {
     "name": "stdout",
     "output_type": "stream",
     "text": [
      "('Amplitude: ', 73.57117335155341, ' +- ', 0.15403606657415073)\n",
      "('D\\xc3\\xa4mpfung: ', 0.0006995108402443952, ' +- ', 5.744159790395555e-06)\n"
     ]
    }
   ],
   "source": [
    "popt, pcov = curve_fit(om_fit, t, om, sigma = np.repeat(Dom, om.size), p0 = [70,0.0005])\n",
    "A = popt[0]\n",
    "delta = popt[1]\n",
    "DA = np.sqrt(pcov[0][0])\n",
    "Ddelta = np.sqrt(pcov[1][1])\n",
    "\n",
    "print(\"Amplitude: \", A, \" +- \", DA)\n",
    "print(\"Dämpfung: \", delta, \" +- \", Ddelta)"
   ]
  },
  {
   "cell_type": "code",
   "execution_count": 7,
   "metadata": {},
   "outputs": [
    {
     "name": "stdout",
     "output_type": "stream",
     "text": [
      "('chi2 = ', 4.894350881470707)\n",
      "('chi2_red = ', 0.9788701762941414)\n"
     ]
    }
   ],
   "source": [
    "chi2_ = np.sum((om_fit(t, *popt) - om)**2/Dom**2)\n",
    "dof = om.size - 2\n",
    "chi2_red = chi2_/dof\n",
    "print(\"chi2 = \", chi2_)\n",
    "print(\"chi2_red = \", chi2_red)"
   ]
  },
  {
   "cell_type": "code",
   "execution_count": 8,
   "metadata": {},
   "outputs": [
    {
     "data": {
      "image/png": "[encoded data removed]",
      "text/plain": [
       "<Figure size 432x288 with 1 Axes>"
      ]
     },
     "metadata": {
      "needs_background": "light"
     },
     "output_type": "display_data"
    }
   ],
   "source": [
    "plt.errorbar(t, om, xerr = Dt, yerr = Dom, linestyle = 'none')\n",
    "plt.plot(t, om_fit(t, A, delta), marker = '')\n",
    "plt.yscale('log')\n",
    "plt.xlabel('t [s]')\n",
    "plt.ylabel(r'$\\omega$ [Hz]')\n",
    "plt.savefig('figures/daempfung.pdf')"
   ]
  },
  {
   "cell_type": "code",
   "execution_count": 9,
   "metadata": {},
   "outputs": [
    {
     "name": "stdout",
     "output_type": "stream",
     "text": [
      "(990.9027004038614, ' +- ', 8.13697675630816)\n"
     ]
    }
   ],
   "source": [
    "# Halbwertzeit\n",
    "T_halb = - np.log(1.0/2.0)/delta\n",
    "DT_halb = T_halb*(Ddelta/delta)\n",
    "print(T_halb, \" +- \", DT_halb)"
   ]
  },
  {
   "cell_type": "markdown",
   "metadata": {},
   "source": [
    "# 3) Präzession"
   ]
  },
  {
   "cell_type": "code",
   "execution_count": 10,
   "metadata": {},
   "outputs": [
    {
     "data": {
      "text/plain": [
       "array([[70.72772261, 56.55913974, 40.65220894, 26.10663495],\n",
       "       [71.21990546, 55.62713392, 39.4269878 , 26.63023373],\n",
       "       [72.5289024 , 58.07757619, 40.33804967, 26.74542546],\n",
       "       [75.51341542, 56.7476353 , 42.00309378, 24.55678258]])"
      ]
     },
     "execution_count": 10,
     "metadata": {},
     "output_type": "execute_result"
    }
   ],
   "source": [
    "f_f = np.empty((4, 4))\n",
    "T_p = np.empty((4, 4))\n",
    "\n",
    "# 1 Gewicht bei 20cm\n",
    "f_f[0] = np.array([675.4, 540.1, 388.2, 249.3])/60\n",
    "T_p[0] = np.array([86.43, 69.2, 50.75, 33.01])\n",
    "\n",
    "# 1 Gewicht bei 15cm\n",
    "f_f[1] = np.array([680.1, 531.2, 376.5, 254.3])/60\n",
    "T_p[1] = np.array([112.21, 88.4, 63.1, 42.12])\n",
    "\n",
    "# 2 Gewichte bei 15cm\n",
    "f_f[2] = np.array([692.6, 554.6, 385.2, 255.4])/60\n",
    "T_p[2] = np.array([61.07, 47.96, 33.61, 21.70])\n",
    "\n",
    "#2 Gewichte bei 20cm\n",
    "f_f[3] = np.array([721.1, 541.9, 401.1, 234.5])/60\n",
    "T_p[3] = np.array([50.46, 38.31, 28.95, 17.15])\n",
    "\n",
    "DT_p = 1.0\n",
    "\n",
    "om_f_start = 2*pi*f_f; om_f_start"
   ]
  },
  {
   "cell_type": "code",
   "execution_count": 11,
   "metadata": {},
   "outputs": [
    {
     "data": {
      "text/plain": [
       "array([[68.65301768, 55.22283816, 39.94328655, 25.80867602],\n",
       "       [68.53168709, 53.9593303 , 38.57577534, 26.24364819],\n",
       "       [71.01234043, 57.11952767, 39.86939537, 26.54396876],\n",
       "       [74.20395118, 55.99736423, 41.58207225, 24.41036351]])"
      ]
     },
     "execution_count": 11,
     "metadata": {},
     "output_type": "execute_result"
    }
   ],
   "source": [
    "om_f_end = om_fit(T_p, om_f_start, delta)\n",
    "om_f = (om_f_start + om_f_end)/2; om_f"
   ]
  },
  {
   "cell_type": "code",
   "execution_count": 12,
   "metadata": {},
   "outputs": [
    {
     "data": {
      "text/plain": [
       "array([[0.1465967 , 0.14673915, 0.14699203, 0.14732428],\n",
       "       [0.1461069 , 0.14630408, 0.14668641, 0.14710068],\n",
       "       [0.14715925, 0.14724611, 0.14740771, 0.14761247],\n",
       "       [0.14744247, 0.14745944, 0.14753767, 0.14771668]])"
      ]
     },
     "execution_count": 12,
     "metadata": {},
     "output_type": "execute_result"
    }
   ],
   "source": [
    "Dom_f_end = 1.0/2*np.sqrt(((1 + np.exp(-delta*T_p))*Dom)**2 + (om_f*T_p*np.exp(-delta*T_p)*Ddelta)**2 + (om_f*delta*np.exp(-delta*T_p)*DT_p)**2)\n",
    "Dom_f = 1.0/2*np.sqrt(Dom**2 + Dom_f_end**2)\n",
    "Dom_f"
   ]
  },
  {
   "cell_type": "code",
   "execution_count": 13,
   "metadata": {},
   "outputs": [],
   "source": [
    "m = np.array([1, 1, 2, 2])*9.85e-3\n",
    "l = np.array([20e-2, 15e-2, 15e-2, 20e-2])"
   ]
  },
  {
   "cell_type": "code",
   "execution_count": 14,
   "metadata": {},
   "outputs": [],
   "source": [
    "def T_p_fit(om_f, I_z, m, l):\n",
    "    return 2*pi*I_z*om_f/(m*g*l)"
   ]
  },
  {
   "cell_type": "code",
   "execution_count": 15,
   "metadata": {},
   "outputs": [
    {
     "name": "stdout",
     "output_type": "stream",
     "text": [
      "[0.00387655 0.0037719  0.00391404 0.00421367]\n",
      "[1.33655180e-05 1.10963344e-05 3.31966581e-05 2.49304456e-05]\n"
     ]
    }
   ],
   "source": [
    "I_z_fit = np.empty(4)\n",
    "DI_z_fit = np.empty(4)\n",
    "\n",
    "for i in range(4):\n",
    "    param = T_p[i, 0]*m[i]*g*l[i]/(2*pi*om_f[i, 0])\n",
    "    popt, pcov = curve_fit(lambda om_f, I_z: T_p_fit(om_f, I_z, m[i], l[i]), om_f[i], T_p[i], sigma = np.repeat(DT_p, T_p[i].size))\n",
    "    I_z_fit[i] = popt[0]\n",
    "    DI_z_fit[i] = np.sqrt(pcov[0][0])\n",
    "\n",
    "print(I_z_fit)\n",
    "print(DI_z_fit)"
   ]
  },
  {
   "cell_type": "code",
   "execution_count": 16,
   "metadata": {},
   "outputs": [
    {
     "name": "stdout",
     "output_type": "stream",
     "text": [
      "[0.00387656 0.00377191 0.00391405 0.00421367]\n",
      "[1.33646100e-05 1.10934345e-05 3.31962883e-05 2.49302759e-05]\n"
     ]
    }
   ],
   "source": [
    "I_z_odr = np.empty(4)\n",
    "DI_z_odr = np.empty(4)\n",
    "\n",
    "for i in range(4):\n",
    "    \n",
    "    def T_p_odr(I_z, om_f, m = m[i], l = l[i]):\n",
    "        return 2*pi*I_z*om_f/(m*g*l)\n",
    "\n",
    "    model = Model(T_p_odr)\n",
    "    data = RealData(x = om_f[i], y = T_p[i], sx = Dom_f[i], sy = np.repeat(DT_p, T_p[i].size))\n",
    "\n",
    "    odr = ODR(data, model, beta0 = [1])\n",
    "    output = odr.run()\n",
    "    eta_odr = output.beta[0]\n",
    "    Deta_odr = output.sd_beta[0]\n",
    "    \n",
    "    I_z_odr[i] = eta_odr\n",
    "    DI_z_odr[i] = Deta_odr\n",
    "\n",
    "print(I_z_odr)\n",
    "print(DI_z_odr)"
   ]
  },
  {
   "cell_type": "code",
   "execution_count": 17,
   "metadata": {},
   "outputs": [
    {
     "name": "stdout",
     "output_type": "stream",
     "text": [
      "('I_z = ', 0.003944046312813618, ' +- ', 8.207583675870874e-05)\n"
     ]
    }
   ],
   "source": [
    "I_z = np.average(I_z_odr)\n",
    "DI_z = np.std(I_z_odr)/2\n",
    "print(\"I_z = \" , I_z, \" +- \", DI_z)"
   ]
  },
  {
   "cell_type": "code",
   "execution_count": 18,
   "metadata": {},
   "outputs": [
    {
     "name": "stdout",
     "output_type": "stream",
     "text": [
      "('I_z = ', 0.0039440388519379034, ' +- ', 8.20765858146825e-05)\n"
     ]
    }
   ],
   "source": [
    "I_z = np.average(I_z_fit)\n",
    "DI_z = np.std(I_z_fit)/2\n",
    "print(\"I_z = \" , I_z, \" +- \", DI_z)"
   ]
  },
  {
   "cell_type": "code",
   "execution_count": 19,
   "metadata": {},
   "outputs": [
    {
     "name": "stdout",
     "output_type": "stream",
     "text": [
      "[[2.03252922 1.63491768 1.18255395 0.76408714]\n",
      " [2.89588828 2.28011594 1.63006546 1.1089567 ]\n",
      " [1.50035563 1.20682693 0.84236446 0.56082355]\n",
      " [1.09843459 0.82892408 0.61553578 0.36134447]]\n"
     ]
    }
   ],
   "source": [
    "Dl = 2e-3\n",
    "DT_p_fit = np.empty((4, 4))\n",
    "for i in range(4):\n",
    "    DT_p_fit[i] = T_p_fit(om_f[i], I_z, m[i], l[i])*np.sqrt((DI_z/I_z)**2 + (Dl/l[i])**2)\n",
    "print(DT_p_fit)"
   ]
  },
  {
   "cell_type": "code",
   "execution_count": 20,
   "metadata": {},
   "outputs": [
    {
     "data": {
      "image/png": "[encoded data removed]",
      "text/plain": [
       "<Figure size 432x288 with 1 Axes>"
      ]
     },
     "metadata": {
      "needs_background": "light"
     },
     "output_type": "display_data"
    }
   ],
   "source": [
    "for i in range(4):\n",
    "    plt.errorbar(om_f[i], T_p[i], xerr = np.repeat(Dom, om_f[i].size), yerr = np.repeat(DT_p, T_p[i].size), marker = 'x', linestyle = 'none')\n",
    "    plt.plot(om_f[i], T_p_fit(om_f[i], I_z, m[i], l[i]))\n",
    "plt.xlim(left = 0)\n",
    "plt.ylim(bottom = 0)\n",
    "plt.xlabel(r'$\\omega_F$ [Hz]')\n",
    "plt.ylabel('$T_p$ [s]')\n",
    "plt.savefig('figures/praezession.pdf')"
   ]
  },
  {
   "cell_type": "code",
   "execution_count": 21,
   "metadata": {},
   "outputs": [
    {
     "name": "stdout",
     "output_type": "stream",
     "text": [
      "('Messreihe ', 0, ': ', 'chi2 = ', 5.3937839119876)\n",
      "('chi2_red = ', 0.3595855941325067)\n",
      "('Messreihe ', 1, ': ', 'chi2 = ', 55.16537352372141)\n",
      "('chi2_red = ', 3.6776915682480937)\n",
      "('Messreihe ', 2, ': ', 'chi2 = ', 2.0944922711894494)\n",
      "('chi2_red = ', 0.13963281807929662)\n",
      "('Messreihe ', 3, ': ', 'chi2 = ', 21.6091188086864)\n",
      "('chi2_red = ', 1.4406079205790934)\n"
     ]
    }
   ],
   "source": [
    "for i in range(4):\n",
    "    chi2_ = np.sum((T_p_fit(om_f[i], I_z, m[i], l[i]) - T_p[i])**2/DT_p**2)\n",
    "    dof = T_p.size - 1\n",
    "    chi2_red = chi2_/dof\n",
    "    print(\"Messreihe \", i, \": \", \"chi2 = \", chi2_)\n",
    "    print(\"chi2_red = \", chi2_red)"
   ]
  },
  {
   "cell_type": "markdown",
   "metadata": {},
   "source": [
    "# 4) Nutation 1"
   ]
  },
  {
   "cell_type": "code",
   "execution_count": 22,
   "metadata": {},
   "outputs": [
    {
     "data": {
      "text/plain": [
       "array([3.65301471, 3.42035128, 3.02950111, 2.94708504, 2.7618397 ,\n",
       "       2.4601352 , 2.32366321, 2.10210281, 1.91210752, 1.71064125])"
      ]
     },
     "execution_count": 22,
     "metadata": {},
     "output_type": "execute_result"
    }
   ],
   "source": [
    "t = np.array([17.20, 18.37, 20.74, 21.32, 22.75, 25.54, 27.04, 29.89, 32.86, 36.73])\n",
    "f = np.array([603.0, 560.4, 525.1, 487.3, 455.8, 421.2, 384.1, 351.3, 322.4, 285.7])/60\n",
    "om_f = 2*pi*f\n",
    "Om = 2*pi*10/t\n",
    "DOm = Om*(Dt/t)\n",
    "Om"
   ]
  },
  {
   "cell_type": "code",
   "execution_count": 23,
   "metadata": {},
   "outputs": [],
   "source": [
    "def Om_fit(om_f, I_x):\n",
    "    return (I_x - I_z)/I_x*om_f"
   ]
  },
  {
   "cell_type": "code",
   "execution_count": 24,
   "metadata": {},
   "outputs": [
    {
     "name": "stdout",
     "output_type": "stream",
     "text": [
      "('I_x = ', 0.004182585349115063, ' +- ', 1.2324355015742064e-06)\n"
     ]
    }
   ],
   "source": [
    "param = [0.005]\n",
    "popt, pcov = curve_fit(Om_fit, om_f, Om, sigma = DOm)\n",
    "I_x = popt[0]\n",
    "DI_x = np.sqrt(pcov[0][0])\n",
    "print(\"I_x = \", I_x, \" +- \", DI_x)"
   ]
  },
  {
   "cell_type": "code",
   "execution_count": 25,
   "metadata": {},
   "outputs": [],
   "source": [
    "def Om_odr(I_x, om_f1):\n",
    "    return (I_x - I_z)/I_x*om_f1"
   ]
  },
  {
   "cell_type": "code",
   "execution_count": 26,
   "metadata": {},
   "outputs": [
    {
     "name": "stdout",
     "output_type": "stream",
     "text": [
      "('chi2 = ', 1.4396854778475048)\n",
      "('chi2_red = ', 0.1599650530941672)\n"
     ]
    }
   ],
   "source": [
    "chi2_ = np.sum((Om_fit(om_f, I_x) - Om)**2/DOm**2)\n",
    "dof = Om.size - 1\n",
    "chi2_red = chi2_/dof\n",
    "print(\"chi2 = \", chi2_)\n",
    "print(\"chi2_red = \", chi2_red)"
   ]
  },
  {
   "cell_type": "code",
   "execution_count": 27,
   "metadata": {},
   "outputs": [
    {
     "data": {
      "image/png": "[encoded data removed]",
      "text/plain": [
       "<Figure size 432x288 with 1 Axes>"
      ]
     },
     "metadata": {
      "needs_background": "light"
     },
     "output_type": "display_data"
    }
   ],
   "source": [
    "plt.errorbar(om_f, Om, xerr = Dom, yerr = DOm, marker = 'x', linestyle = 'none')\n",
    "plt.plot(om_f, Om_fit(om_f, I_x))\n",
    "plt.xlabel(r'$\\omega_F$ [Hz]')\n",
    "plt.ylabel(r'$\\Omega$ [Hz]')\n",
    "plt.savefig('figures/nutation_Omega.pdf')"
   ]
  },
  {
   "cell_type": "markdown",
   "metadata": {},
   "source": [
    "# 5) Nutation 2"
   ]
  },
  {
   "cell_type": "code",
   "execution_count": 28,
   "metadata": {},
   "outputs": [],
   "source": [
    "om_f = np.array([733.5, 884.2, 435.5, 372.2, 345.1, 305.6, 650.2, 540.3, 505.8, 450.9])/60\n",
    "om_n = np.array([700, 870, 400, 350, 320, 285, 610, 505, 475, 425])/60\n",
    "Dom_n = 0.5"
   ]
  },
  {
   "cell_type": "code",
   "execution_count": 29,
   "metadata": {},
   "outputs": [],
   "source": [
    "def om_n_fit(om_f, I_x):\n",
    "    return I_z/I_x*om_f"
   ]
  },
  {
   "cell_type": "code",
   "execution_count": 30,
   "metadata": {},
   "outputs": [
    {
     "name": "stdout",
     "output_type": "stream",
     "text": [
      "(0.0043942934569893705, ' +- ', 7.961885772436099e-05)\n"
     ]
    }
   ],
   "source": [
    "param = [I_x]\n",
    "popt, pcov = curve_fit(om_n_fit, om_f, om_n, sigma = np.repeat(Dom_n, om_n.size))\n",
    "I_x_ = popt[0]\n",
    "DI_x_ = np.sqrt(pcov[0][0])\n",
    "print(I_x_, \" +- \", DI_x_)"
   ]
  },
  {
   "cell_type": "code",
   "execution_count": 31,
   "metadata": {},
   "outputs": [
    {
     "name": "stdout",
     "output_type": "stream",
     "text": [
      "('chi2 = ', 8.024576318506378)\n",
      "('chi2_red = ', 0.8916195909451532)\n"
     ]
    }
   ],
   "source": [
    "chi2_ = np.sum((om_n_fit(om_f, I_x_) - om_n)**2/Dom_n**2)\n",
    "dof = om_n.size - 1\n",
    "chi2_red = chi2_/dof\n",
    "print(\"chi2 = \", chi2_)\n",
    "print(\"chi2_red = \", chi2_red)"
   ]
  },
  {
   "cell_type": "code",
   "execution_count": 32,
   "metadata": {
    "scrolled": true
   },
   "outputs": [
    {
     "data": {
      "image/png": "[encoded data removed]",
      "text/plain": [
       "<Figure size 432x288 with 1 Axes>"
      ]
     },
     "metadata": {
      "needs_background": "light"
     },
     "output_type": "display_data"
    }
   ],
   "source": [
    "plt.errorbar(om_f, om_n, xerr = Dom, yerr = Dom_n, linestyle = 'none')\n",
    "plt.plot(om_f, om_n_fit(om_f, I_x_), marker = '')\n",
    "plt.xlabel(r'$\\omega_F$ [Hz]')\n",
    "plt.ylabel(r'$\\omega_N$ [Hz]')\n",
    "plt.savefig('figures/nutation_om_n.pdf')"
   ]
  }
 ],
 "metadata": {
  "kernelspec": {
   "display_name": "Python 2",
   "language": "python",
   "name": "python2"
  },
  "language_info": {
   "codemirror_mode": {
    "name": "ipython",
    "version": 2
   },
   "file_extension": ".py",
   "mimetype": "text/x-python",
   "name": "python",
   "nbconvert_exporter": "python",
   "pygments_lexer": "ipython2",
   "version": "2.7.17"
  }
 },
 "nbformat": 4,
 "nbformat_minor": 2
}
