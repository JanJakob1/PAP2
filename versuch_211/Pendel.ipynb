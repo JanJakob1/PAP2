{
 "cells": [
  {
   "cell_type": "markdown",
   "metadata": {},
   "source": [
    " <font size=\"+2\"><p style=\"text-align: center;\"><b> Auswertung Versuch 211 PAP 2.1. </p></font>"
   ]
  },
  {
   "cell_type": "code",
   "execution_count": 1,
   "metadata": {},
   "outputs": [],
   "source": [
    "%matplotlib inline\n",
    "import numpy as np\n",
    "import matplotlib.pyplot as plt\n",
    "from scipy.optimize import curve_fit\n",
    "from scipy.stats import chi2\n",
    "from scipy.signal import argrelextrema\n",
    "from scipy.integrate import quad\n",
    "from numpy import exp, sqrt, pi, array, mean\n",
    "from uncertainties import ufloat, unumpy as unp\n",
    "from uncertainties import umath"
   ]
  },
  {
   "cell_type": "code",
   "execution_count": 2,
   "metadata": {},
   "outputs": [],
   "source": [
    "def chi_2(func, fit, x, y, yerr, name = ''):\n",
    "    chi_sq = np.sum((func(x, *fit) - y)**2 / yerr **2)\n",
    "    dof = len(y) - len(fit)\n",
    "    chi_sq_red = chi_sq / dof\n",
    "    prob = round(1 - chi2.cdf(chi_sq, dof), 3) * 1e2\n",
    "    if name == '':\n",
    "        print('chi_sq = ' + str(chi_sq), 'chi_sq_red = ' + str(chi_sq_red), \n",
    "              'Fitwahrscheinlichkeit = ' + str(prob))\n",
    "    else:\n",
    "        print(name, 'chi_sq = ' + str(chi_sq), 'chi_sq_red = ' + str(chi_sq_red), \n",
    "              'Fitwahrscheinlichkeit = ' + str(prob))\n",
    "    return np.array([chi_sq, chi_sq_red, prob])\n",
    "\n",
    "def perr(pcov):\n",
    "    return np.sqrt(np.diag(pcov))\n",
    "\n",
    "def uprint(name, value, error, unit = ''):\n",
    "    print(name + str(ufloat(value, error)) + ' ' + unit)\n",
    "    return np.array([ufloat(value, error)])\n",
    "\n",
    "def fiterr(func, x, popt, pcov):\n",
    "    plt.fill_between(x, func(x, *(popt - perr(pcov))), func(x, *(popt + perr(pcov))))\n",
    "    \n",
    "def dmean(param, err):\n",
    "    return sqrt(np.var(param) / len(param) + np.sum(err * err) / len(err)**2)"
   ]
  },
  {
   "cell_type": "code",
   "execution_count": 3,
   "metadata": {},
   "outputs": [],
   "source": [
    "def gau(x, A, mu, sig):\n",
    "    return y0 + A / (sqrt(2*pi) * sig) * exp(- (x-mu)**2 / 2 / sig**2)\n",
    "\n",
    "def poisson(x, A_p, mu_p):\n",
    "    return A_p * exp(-mu_p) * mu_p**2 / gamma(x+1)\n",
    "\n",
    "def binomial(n, k, p):\n",
    "    return fctl(n) / (fctl(n-k) * fctl(k)) * (p **k) * ((1-p) **(n-k))\n",
    "\n",
    "def lin(x, a, b):\n",
    "    return x * a + b\n",
    "\n",
    "def prop(x, a):\n",
    "    return x * a\n",
    "\n",
    "def twoexp(x, A1, l1, A2, l2):\n",
    "    return A1 * np.exp(-x*l1) + A2 * np.exp(-x*l2)\n",
    "\n",
    "def oneexp(x, A, l):\n",
    "    return A * np.exp(-x*l)\n",
    "\n",
    "def staterr(n, t):\n",
    "    return np.sqrt(n / t)    "
   ]
  },
  {
   "cell_type": "code",
   "execution_count": 4,
   "metadata": {},
   "outputs": [],
   "source": [
    "# Für Diagramme etc\n",
    "diagrammzahl = 7 # Nummer des ersten geplotteten Diagramms\n",
    "\n",
    "l = array([[15.5, 25.5, 40.5], [0.1, 0.1, 0.1]]) * 1e-2 # m\n",
    "fsy = array([[.615, .615, .604], [.005, .005, .005]]) # Hz\n",
    "fasy = array([[.633, .664, .738], [.005, .006, .005]]) # Hz\n",
    "fu = array([[.615, .615, .616], [.004, .005, .005]]) # Hz\n",
    "fv = array([[.632, .664, .737], [.004, .005, .006]]) # Hz"
   ]
  },
  {
   "cell_type": "markdown",
   "metadata": {},
   "source": [
    "## 3.1 Berechnung der Frequenzen der reinen und gemischten Schwingungsformen "
   ]
  },
  {
   "cell_type": "code",
   "execution_count": 5,
   "metadata": {},
   "outputs": [
    {
     "name": "stdout",
     "output_type": "stream",
     "text": [
      "aus den Messwerten für die Eigenfrequenzen ermittelte Werte:\n",
      "Kopplung l = 0.155m: \n",
      "w_sy = 3.864+/-0.031 1/s\n",
      "w_asy = 3.977+/-0.031 1/s\n",
      "w_p = 3.918+/-0.018 1/s\n",
      "w_s = 0.053+/-0.018 1/s\n",
      "Kopplung l = 0.255m: \n",
      "w_sy = 3.864+/-0.031 1/s\n",
      "w_asy = 4.17+/-0.04 1/s\n",
      "w_p = 4.018+/-0.022 1/s\n",
      "w_s = 0.154+/-0.022 1/s\n",
      "Kopplung l = 0.405m: \n",
      "w_sy = 3.795+/-0.031 1/s\n",
      "w_asy = 4.637+/-0.031 1/s\n",
      "w_p = 4.251+/-0.025 1/s\n",
      "w_s = 0.380+/-0.025 1/s\n"
     ]
    }
   ],
   "source": [
    "wsy = 2*pi * fsy\n",
    "wasy = 2*pi * fasy\n",
    "wu = 2*pi * fu\n",
    "wv = 2*pi * fv\n",
    "wp = array([fv[0] + fu[0], sqrt(fu[1]**2 + fv[1]**2)]) * pi\n",
    "ws = array([fv[0] - fu[0], sqrt(fu[1]**2 + fv[1]**2)]) * pi\n",
    "\n",
    "print('aus den Messwerten für die Eigenfrequenzen ermittelte Werte:')\n",
    "\n",
    "for i in range(3):\n",
    "    print('Kopplung l = {}m: '.format(np.round(l[0,i], 3)))\n",
    "    uprint('w_sy = ', wsy[0,i], wsy[1, i], '1/s')\n",
    "    uprint('w_asy = ', wasy[0,i], wasy[1, i], '1/s')\n",
    "    uprint('w_p = ', wp[0,i], wp[1, i], '1/s')\n",
    "    uprint('w_s = ', ws[0,i], ws[1, i], '1/s')"
   ]
  },
  {
   "cell_type": "code",
   "execution_count": 6,
   "metadata": {},
   "outputs": [
    {
     "name": "stdout",
     "output_type": "stream",
     "text": [
      "theoretisch erwartete Werte\n",
      "Kopplung l = 0.155m: \n",
      "w_p,theo = 3.921+/-0.022 1/s\n",
      "w_s,theo = 0.057+/-0.022 1/s\n",
      "Kopplung l = 0.255m: \n",
      "w_p,theo = 4.018+/-0.025 1/s\n",
      "w_s,theo = 0.154+/-0.025 1/s\n",
      "Kopplung l = 0.405m: \n",
      "w_p,theo = 4.216+/-0.022 1/s\n",
      "w_s,theo = 0.421+/-0.022 1/s\n"
     ]
    }
   ],
   "source": [
    "# erwartete Werte für die Schwebung\n",
    "wptheo = array([fasy[0] + fsy[0], sqrt(fasy[1]**2 + fsy[1]**2)]) * pi\n",
    "wstheo = array([fasy[0] - fsy[0], sqrt(fasy[1]**2 + fsy[1]**2)]) * pi\n",
    "\n",
    "print('theoretisch erwartete Werte')\n",
    "\n",
    "for i in range(3):\n",
    "    print('Kopplung l = {}m: '.format(np.round(l[0,i], 3)))\n",
    "    uprint('w_p,theo = ', wptheo[0,i], wptheo[1, i], '1/s')\n",
    "    uprint('w_s,theo = ', wstheo[0,i], wstheo[1, i], '1/s')"
   ]
  },
  {
   "cell_type": "markdown",
   "metadata": {},
   "source": [
    "## 3.2 Berechnung der Kopplungsgrade aus den Kreisfrequenzen"
   ]
  },
  {
   "cell_type": "code",
   "execution_count": 7,
   "metadata": {},
   "outputs": [
    {
     "name": "stdout",
     "output_type": "stream",
     "text": [
      "Kopplungsgrade (genähert)\n",
      "Kopplung l = 0.155m: \n",
      "kappa = 0.028+/-0.010 \n",
      "kappa_theo = 0.030+/-0.012 \n",
      "Kopplung l = 0.255m: \n",
      "kappa = 0.083+/-0.013 \n",
      "kappa_theo = 0.083+/-0.014 \n",
      "Kopplung l = 0.405m: \n",
      "kappa = 0.216+/-0.016 \n",
      "kappa_theo = 0.246+/-0.016 \n"
     ]
    }
   ],
   "source": [
    "kappa = array([(wv[0]**2 - wu[0]**2) / (2 * wu[0]**2), \n",
    "               (wv[0] / wu[0])**2 * sqrt((wv[1] / wv[0])**2 + (wu[1] / wu[0])**2)])\n",
    "\n",
    "kappatheo = array([(wasy[0]**2 - wsy[0]**2) / (2 * wsy[0]**2), \n",
    "               (wasy[0] / wsy[0])**2 * sqrt((wasy[1] / wasy[0])**2 + (wsy[1] / wsy[0])**2)])\n",
    "\n",
    "print('Kopplungsgrade (genähert)')\n",
    "\n",
    "for i in range(3):\n",
    "    print('Kopplung l = {}m: '.format(np.round(l[0,i], 3)))\n",
    "    uprint('kappa = ', kappa[0,i], kappa[1,i])\n",
    "    uprint('kappa_theo = ', kappatheo[0,i], kappatheo[1,i])"
   ]
  },
  {
   "cell_type": "markdown",
   "metadata": {},
   "source": [
    "#### Berechnung der Verhältnisse mit Nährung"
   ]
  },
  {
   "cell_type": "code",
   "execution_count": 8,
   "metadata": {},
   "outputs": [
    {
     "name": "stdout",
     "output_type": "stream",
     "text": [
      "lambda_1,2: \n",
      "aus Schwebung: 0.34+/-0.13 \n",
      "aus Eigenschw: 0.36+/-0.16 \n",
      "aus Längen: 0.369+/-0.006 \n",
      "lambda_2,3: \n",
      "aus Schwebung: 0.38+/-0.07 \n",
      "aus Eigenschw: 0.34+/-0.06 \n",
      "aus Längen: 0.396+/-0.004 \n",
      "lambda_1,3: \n",
      "aus Schwebung: 0.13+/-0.05 \n",
      "aus Eigenschw: 0.12+/-0.05 \n",
      "aus Längen: 0.1465+/-0.0020 \n"
     ]
    }
   ],
   "source": [
    "vexp = np.zeros((2,3))\n",
    "vtheo = np.zeros((2,3))\n",
    "vausl = np.zeros((2,3))\n",
    "\n",
    "for i in range(3):\n",
    "    j = i+1;\n",
    "    if (j == 3):\n",
    "        j = 2\n",
    "        i = 0\n",
    "    vexp[0,i] = kappa[0,i]/kappa[0,j]\n",
    "    vexp[1,i] = vexp[0,i] * sqrt((kappa[1,i]/kappa[0,i])**2 + (kappa[1,j]/kappa[0,j])**2)\n",
    "    vtheo[0,i] = kappatheo[0,i]/kappatheo[0,j]\n",
    "    vtheo[1,i] = vtheo[0,i] * sqrt((kappatheo[1,i]/kappatheo[0,i])**2 + (kappatheo[1,j]/kappatheo[0,j])**2)\n",
    "    vausl[0,i] = (l[0,i]/l[0,j])**2\n",
    "    vausl[1,i] = vausl[0,i] * sqrt((2*l[1,i]/l[0,i])**2 + (2*l[1,j]/l[0,j])**2)\n",
    "    \n",
    "    print('lambda_{},{}: '.format(i+1, j+1))\n",
    "    uprint('aus Schwebung: ', vexp[0,i], vexp[1,i])\n",
    "    uprint('aus Eigenschw: ', vtheo[0,i], vtheo[1,i])\n",
    "    uprint('aus Längen: ', vausl[0,i], vausl[1,i])"
   ]
  },
  {
   "cell_type": "markdown",
   "metadata": {},
   "source": [
    "#### Berechnung der Verhälnisse  ohne Näherung"
   ]
  },
  {
   "cell_type": "code",
   "execution_count": 9,
   "metadata": {},
   "outputs": [
    {
     "name": "stdout",
     "output_type": "stream",
     "text": [
      "Kopplungsgrade (ungenähert)\n",
      "Kopplung l = 0.155m: \n",
      "kappa = 0.027+/-0.009 \n",
      "kappa_theo = 0.029+/-0.011 \n",
      "Kopplung l = 0.255m: \n",
      "kappa = 0.077+/-0.011 \n",
      "kappa_theo = 0.077+/-0.012 \n",
      "Kopplung l = 0.405m: \n",
      "kappa = 0.177+/-0.011 \n",
      "kappa_theo = 0.198+/-0.010 \n",
      "\n",
      "Verhältnisse\n",
      "lambda_1,2: \n",
      "aus Schwebung: 0.36+/-0.13 \n",
      "aus Eigenschw: 0.38+/-0.16 \n",
      "aus Längen: 0.369+/-0.006 \n",
      "lambda_2,3: \n",
      "aus Schwebung: 0.43+/-0.07 \n",
      "aus Eigenschw: 0.39+/-0.06 \n",
      "aus Längen: 0.396+/-0.004 \n",
      "lambda_1,3: \n",
      "aus Schwebung: 0.15+/-0.05 \n",
      "aus Eigenschw: 0.15+/-0.06 \n",
      "aus Längen: 0.1465+/-0.0020 \n"
     ]
    }
   ],
   "source": [
    "nkappa = array([(wv[0]**2 - wu[0]**2) / (wv[0]**2 + wu[0]**2), \n",
    "                (2*wu[0]*wv[0] / (wu[0]**2 + wv[0]**2))**2 * \n",
    "                    sqrt((wv[1] / wv[0])**2 + (wu[1] / wu[0])**2)])\n",
    "\n",
    "nkappatheo = array([(wasy[0]**2 - wsy[0]**2) / (wasy[0]**2 + wsy[0]**2), \n",
    "                (2*wsy[0]*wasy[0] / (wsy[0]**2 + wasy[0]**2))**2 * \n",
    "                    sqrt((wasy[1] / wasy[0])**2 + (wsy[1] / wsy[0])**2)])\n",
    "\n",
    "print('Kopplungsgrade (ungenähert)')\n",
    "\n",
    "for i in range(3):\n",
    "    print('Kopplung l = {}m: '.format(np.round(l[0,i], 3)))\n",
    "    uprint('kappa = ', nkappa[0,i], nkappa[1,i])\n",
    "    uprint('kappa_theo = ', nkappatheo[0,i], nkappatheo[1,i])\n",
    "    \n",
    "print('\\nVerhältnisse')\n",
    "\n",
    "nvexp = np.zeros((2,3))\n",
    "nvtheo = np.zeros((2,3))\n",
    "\n",
    "for i in range(3):\n",
    "    j = i+1\n",
    "    if (j == 3):\n",
    "        j = 2\n",
    "        i = 0\n",
    "        \n",
    "    nvexp[0,i] = nkappa[0,i]/nkappa[0,j]\n",
    "    nvexp[1,i] = nvexp[0,i] * sqrt((nkappa[1,i]/nkappa[0,i])**2 + (nkappa[1,j]/nkappa[0,j])**2)\n",
    "    nvtheo[0,i] = nkappatheo[0,i]/nkappatheo[0,j]\n",
    "    nvtheo[1,i] = nvtheo[0,i] * sqrt((nkappatheo[1,i]/nkappatheo[0,i])**2 + (nkappatheo[1,j]/nkappatheo[0,j])**2)\n",
    "    vausl[0,i] = (l[0,i]/l[0,j])**2\n",
    "    vausl[1,i] = vausl[0,i] * sqrt((2*l[1,i]/l[0,i])**2 + (2*l[1,j]/l[0,j])**2)\n",
    "    \n",
    "    print('lambda_{},{}: '.format(i+1, j+1))\n",
    "    uprint('aus Schwebung: ', nvexp[0,i], nvexp[1,i])\n",
    "    uprint('aus Eigenschw: ', nvtheo[0,i], nvtheo[1,i])\n",
    "    uprint('aus Längen: ', vausl[0,i], vausl[1,i])"
   ]
  },
  {
   "cell_type": "markdown",
   "metadata": {},
   "source": [
    "####  Zusammenhang zwischen $\\kappa$ und $l^2$"
   ]
  },
  {
   "cell_type": "code",
   "execution_count": 11,
   "metadata": {
    "scrolled": false
   },
   "outputs": [
    {
     "name": "stdout",
     "output_type": "stream",
     "text": [
      "('exp.', 'chi_sq = 0.15813263621299234', 'chi_sq_red = 0.07906631810649617', 'Fitwahrscheinlichkeit = 92.4')\n",
      "('theo.', 'chi_sq = 1.1314399856085668', 'chi_sq_red = 0.5657199928042834', 'Fitwahrscheinlichkeit = 56.8')\n"
     ]
    },
    {
     "data": {
      "image/png": "[encoded data removed]",
      "text/plain": [
       "<Figure size 1008x720 with 1 Axes>"
      ]
     },
     "metadata": {
      "needs_background": "light"
     },
     "output_type": "display_data"
    }
   ],
   "source": [
    "x = array([l[0]**2, l[1]*2*l[0]])\n",
    "pex, dex = curve_fit(prop, x[0], kappa[0]) #, sigma=kappa[1], absolute_sigma=True)\n",
    "ptheo, dtheo = curve_fit(prop, x[0], kappatheo[0]) #, sigma=kappatheo[1], absolute_sigma=True)\n",
    "chi_2(prop, pex, x[0], kappa[0], kappa[1], 'exp.')\n",
    "chi_2(prop, ptheo, x[0], kappatheo[0], kappatheo[1], 'theo.')\n",
    "\n",
    "plt.figure(figsize=(14,10))\n",
    "plt.errorbar(x[0], kappa[0], xerr=x[1], yerr=kappa[1], linestyle='none', color='b', fmt=\"x\", label=\"exp.\")\n",
    "plt.errorbar(x[0], kappatheo[0], xerr=x[1], yerr=kappatheo[1], linestyle='none', color='r', fmt=\"x\", label=\"theo.\")\n",
    "plt.plot(x[0], prop(x[0], *pex), color='b', alpha=.5, label='Fit exp.')\n",
    "plt.plot(x[0], prop(x[0], *ptheo), color='r', alpha=.5, label='Fit theo.')\n",
    "plt.title(r'Diagramm 7: Zusammenhang zwischen $\\kappa$ und $l^2$')\n",
    "plt.xlabel('$l^2 / m^2$')\n",
    "plt.ylabel(r'$\\kappa$')\n",
    "plt.legend()\n",
    "plt.grid()\n",
    "plt.savefig('figures/plot1-pdf', format='pdf')"
   ]
  },
  {
   "cell_type": "code",
   "execution_count": null,
   "metadata": {},
   "outputs": [],
   "source": []
  },
  {
   "cell_type": "code",
   "execution_count": null,
   "metadata": {},
   "outputs": [],
   "source": []
  },
  {
   "cell_type": "code",
   "execution_count": null,
   "metadata": {},
   "outputs": [],
   "source": []
  },
  {
   "cell_type": "code",
   "execution_count": null,
   "metadata": {},
   "outputs": [],
   "source": []
  },
  {
   "cell_type": "code",
   "execution_count": null,
   "metadata": {},
   "outputs": [],
   "source": []
  },
  {
   "cell_type": "code",
   "execution_count": null,
   "metadata": {},
   "outputs": [],
   "source": []
  },
  {
   "cell_type": "code",
   "execution_count": null,
   "metadata": {},
   "outputs": [],
   "source": []
  },
  {
   "cell_type": "code",
   "execution_count": null,
   "metadata": {},
   "outputs": [],
   "source": []
  },
  {
   "cell_type": "code",
   "execution_count": null,
   "metadata": {},
   "outputs": [],
   "source": []
  },
  {
   "cell_type": "code",
   "execution_count": null,
   "metadata": {},
   "outputs": [],
   "source": []
  },
  {
   "cell_type": "code",
   "execution_count": null,
   "metadata": {},
   "outputs": [],
   "source": []
  },
  {
   "cell_type": "code",
   "execution_count": null,
   "metadata": {},
   "outputs": [],
   "source": []
  }
 ],
 "metadata": {
  "kernelspec": {
   "display_name": "Python 2",
   "language": "python",
   "name": "python2"
  },
  "language_info": {
   "codemirror_mode": {
    "name": "ipython",
    "version": 2
   },
   "file_extension": ".py",
   "mimetype": "text/x-python",
   "name": "python",
   "nbconvert_exporter": "python",
   "pygments_lexer": "ipython2",
   "version": "2.7.17"
  }
 },
 "nbformat": 4,
 "nbformat_minor": 1
}
