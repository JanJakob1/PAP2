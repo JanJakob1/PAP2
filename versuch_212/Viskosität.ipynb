{
 "cells": [
  {
   "cell_type": "markdown",
   "metadata": {},
   "source": [
    " <font size=\"+2\"><p style=\"text-align: center;\"><b> Auswertung Versuch 212 PAP 2.1. </p></font>"
   ]
  },
  {
   "cell_type": "code",
   "execution_count": 1,
   "metadata": {},
   "outputs": [],
   "source": [
    "%matplotlib inline\n",
    "import numpy as np\n",
    "import matplotlib.pyplot as plt\n",
    "import matplotlib.ticker as ticker\n",
    "from scipy.optimize import curve_fit\n",
    "from scipy.stats import chi2\n",
    "from scipy.odr import Data, RealData, Model, ODR\n",
    "import pandas as pd"
   ]
  },
  {
   "cell_type": "code",
   "execution_count": 2,
   "metadata": {},
   "outputs": [],
   "source": [
    "rho_f = 1.1466*1e3\n",
    "Drho_f = 0.0006e3\n",
    "Drho_k = 0.0025*1e3\n",
    "g = 9.81\n",
    "R = 75e-3/2"
   ]
  },
  {
   "cell_type": "code",
   "execution_count": 3,
   "metadata": {},
   "outputs": [],
   "source": [
    "def get_rho_k(radius):\n",
    "    if 2*radius < 2e3:\n",
    "        return 1.3925e3\n",
    "    elif 2*radius <= 7.144e3:\n",
    "        return 1.3775e3\n",
    "    elif 2*radius <= 8e3:\n",
    "        return 1.3575e3\n",
    "    else:\n",
    "        return 1.3625e3\n",
    "    \n",
    "v_rho_k = np.vectorize(get_rho_k)"
   ]
  },
  {
   "cell_type": "code",
   "execution_count": 4,
   "metadata": {},
   "outputs": [],
   "source": [
    "diameter = np.array([1.5, 2, 3, 4, 5, 6, 7.144, 8, 9])*1e-3\n",
    "r = diameter/2\n",
    "Dr = 1e-2*r"
   ]
  },
  {
   "cell_type": "code",
   "execution_count": 5,
   "metadata": {},
   "outputs": [],
   "source": [
    "distance = np.array([20, 20, 20, 30, 30, 30, 30, 30, 30])*1e-2"
   ]
  },
  {
   "cell_type": "code",
   "execution_count": 6,
   "metadata": {},
   "outputs": [
    {
     "name": "stdout",
     "output_type": "stream",
     "text": [
      "[1392.5 1392.5 1392.5 1392.5 1392.5 1392.5 1392.5 1392.5 1392.5]\n"
     ]
    }
   ],
   "source": [
    "rho_k = v_rho_k(r); print(rho_k)"
   ]
  },
  {
   "cell_type": "code",
   "execution_count": 7,
   "metadata": {},
   "outputs": [],
   "source": [
    "times = np.loadtxt('times.txt')"
   ]
  },
  {
   "cell_type": "code",
   "execution_count": 8,
   "metadata": {},
   "outputs": [
    {
     "name": "stdout",
     "output_type": "stream",
     "text": [
      "[124.48   78.68   39.694  34.45   22.656  16.53   12.234  11.116   8.692]\n",
      "[2.98179543 0.63563512 0.32441455 0.23044305 0.14429414 0.10590562\n",
      " 0.06762248 0.01930803 0.03615522]\n"
     ]
    }
   ],
   "source": [
    "avg_time = np.average(times, axis = 1); print(avg_time)\n",
    "Davg_time_std = 1/np.sqrt(5)*np.std(times, axis = 1)\n",
    "Davg_time = Davg_time_std; print(Davg_time)"
   ]
  },
  {
   "cell_type": "code",
   "execution_count": 9,
   "metadata": {},
   "outputs": [
    {
     "name": "stdout",
     "output_type": "stream",
     "text": [
      "[0.00160668 0.00254194 0.00503854 0.00870827 0.01324153 0.01814882\n",
      " 0.02452182 0.02698813 0.0345145 ]\n",
      "[2.39540121 0.80787381 0.81728863 0.66892032 0.63689153 0.64068735\n",
      " 0.55274221 0.17369584 0.41595974]\n"
     ]
    }
   ],
   "source": [
    "v = distance/avg_time; print(v)\n",
    "Dv = v*Davg_time/avg_time; print(Dv/v*100)"
   ]
  },
  {
   "cell_type": "code",
   "execution_count": 10,
   "metadata": {},
   "outputs": [
    {
     "name": "stdout",
     "output_type": "stream",
     "text": [
      "[1.042    1.056    1.084    1.112    1.14     1.168    1.200032 1.224\n",
      " 1.252   ]\n"
     ]
    }
   ],
   "source": [
    "def get_ladenburg(radius):\n",
    "    return 1 + 2.1*radius/R\n",
    "\n",
    "ladenburg = get_ladenburg(r); print(ladenburg)"
   ]
  },
  {
   "cell_type": "code",
   "execution_count": 11,
   "metadata": {},
   "outputs": [],
   "source": [
    "Dy = v/(rho_k - rho_f)*np.sqrt((Dv/v)**2 + (Drho_k/(rho_k - rho_f))**2)"
   ]
  },
  {
   "cell_type": "code",
   "execution_count": 12,
   "metadata": {},
   "outputs": [
    {
     "data": {
      "image/png": "[encoded data removed]",
      "text/plain": [
       "<Figure size 432x288 with 1 Axes>"
      ]
     },
     "metadata": {
      "needs_background": "light"
     },
     "output_type": "display_data"
    }
   ],
   "source": [
    "plt.errorbar(r**2*1e6, v/(rho_k - rho_f), xerr = 0, yerr = Dy, marker = '.', linestyle = 'none', markersize = 3, elinewidth = 1, capsize = 2)\n",
    "plt.errorbar(r**2*1e6, ladenburg*v/(rho_k - rho_f), xerr = 0, yerr = ladenburg*Dy, marker = '.', linestyle = 'none', markersize = 3, elinewidth = 1, capsize = 2)\n",
    "plt.xlabel(r\"$r^2$ [${mm}^2$]\")\n",
    "plt.ylabel(r\"$\\frac{v}{\\rho_k - \\rho_f}$ [$\\frac{m^4}{kg \\cdot s}$]\")\n",
    "plt.xlim(left = 0)\n",
    "plt.ylim(bottom = 0)\n",
    "plt.savefig('figures/v_for_radii.png', format = 'png')"
   ]
  },
  {
   "cell_type": "code",
   "execution_count": 13,
   "metadata": {},
   "outputs": [],
   "source": [
    "def fit_func_v(radius, visc):\n",
    "    return 1/get_ladenburg(radius)*2/9*g*(v_rho_k(radius) - rho_f)/visc*radius**2"
   ]
  },
  {
   "cell_type": "code",
   "execution_count": 14,
   "metadata": {},
   "outputs": [
    {
     "name": "stdout",
     "output_type": "stream",
     "text": [
      "('Viskosit\\xc3\\xa4t: ', 0.21683451508927512, ' +- ', 0.005099471793949987)\n"
     ]
    }
   ],
   "source": [
    "# number of radii for which Stoke's law seems to hold:\n",
    "num_linear = 5\n",
    "popt, pcov = curve_fit(fit_func_v, r[0:num_linear], v[0:num_linear], sigma = Dv[0:num_linear], p0 = [1])\n",
    "eta = popt[0]\n",
    "print(\"Viskosität: \", eta, \" +- \", np.sqrt(pcov[0][0]))"
   ]
  },
  {
   "cell_type": "code",
   "execution_count": 15,
   "metadata": {},
   "outputs": [
    {
     "name": "stdout",
     "output_type": "stream",
     "text": [
      "('chi2 = ', 174.471927798923)\n",
      "('chi2_red = ', 43.61798194973075)\n"
     ]
    }
   ],
   "source": [
    "chi2_ = np.sum((fit_func_v(r[0:num_linear], *popt) - v[0:num_linear])**2/Dv[0:num_linear]**2)\n",
    "dof = num_linear - 1\n",
    "chi2_red = chi2_/dof\n",
    "print(\"chi2 = \", chi2_)\n",
    "print(\"chi2_red = \", chi2_red)"
   ]
  },
  {
   "cell_type": "code",
   "execution_count": 16,
   "metadata": {},
   "outputs": [],
   "source": [
    "def fit_func_odr(visc, radius):\n",
    "    return 1/get_ladenburg(radius)*2/9*g*(v_rho_k(radius) - rho_f)/visc[0]*radius**2"
   ]
  },
  {
   "cell_type": "code",
   "execution_count": 17,
   "metadata": {},
   "outputs": [],
   "source": [
    "stokes = Model(fit_func_odr)\n",
    "data = RealData(r[0:num_linear], y = v[0:num_linear], sx = Dr[0:num_linear], sy = Dv[0:num_linear])"
   ]
  },
  {
   "cell_type": "code",
   "execution_count": 18,
   "metadata": {},
   "outputs": [
    {
     "name": "stdout",
     "output_type": "stream",
     "text": [
      "Beta: [0.21227653]\n",
      "Beta Std Error: [0.00724349]\n",
      "Beta Covariance: [[4.3604353e-06]]\n",
      "Residual Variance: 12.0327847085\n",
      "Inverse Condition #: 1.0\n",
      "Reason(s) for Halting:\n",
      "  Sum of squares convergence\n"
     ]
    }
   ],
   "source": [
    "odr = ODR(data, stokes, beta0 = [1])\n",
    "output = odr.run()\n",
    "output.pprint()\n",
    "eta_odr = output.beta[0]\n",
    "Deta_odr = output.sd_beta[0]"
   ]
  },
  {
   "cell_type": "code",
   "execution_count": 19,
   "metadata": {},
   "outputs": [
    {
     "data": {
      "image/png": "[encoded data removed]",
      "text/plain": [
       "<Figure size 432x288 with 1 Axes>"
      ]
     },
     "metadata": {
      "needs_background": "light"
     },
     "output_type": "display_data"
    }
   ],
   "source": [
    "plt.errorbar(r**2*1e6, ladenburg*v/(rho_k - rho_f), xerr = 0, yerr = ladenburg*Dy, marker = '.', linestyle = 'none', markersize = 3, elinewidth = 1, capsize = 1)\n",
    "\n",
    "r_cont = np.linspace(0, 4.5e-3, 100)\n",
    "plt.plot(r_cont**2*1e6, get_ladenburg(r_cont)*fit_func_v(r_cont, eta_odr)/(v_rho_k(r_cont) - rho_f), linewidth = 1)\n",
    "plt.xlabel(r\"$r^2$ [${mm}^2$]\")\n",
    "plt.ylabel(r\"$\\frac{v}{\\rho_k - \\rho_f}$ [$\\frac{m^4}{kg \\cdot s}$]\")\n",
    "plt.xlim(left = 0)\n",
    "plt.ylim(bottom = 0)\n",
    "plt.savefig('figures/v_for_radii_fit.png', format = 'png')"
   ]
  },
  {
   "cell_type": "code",
   "execution_count": 20,
   "metadata": {},
   "outputs": [
    {
     "name": "stdout",
     "output_type": "stream",
     "text": [
      "[0.01301762 0.02746032 0.08164627 0.18814903 0.35761686 0.58817913\n",
      " 0.94624627 1.16619899 1.67785337]\n",
      "[0.04287386 0.03646421 0.03648519 0.03618174 0.0361239  0.03613061\n",
      " 0.03598507 0.03560042 0.03580049]\n"
     ]
    }
   ],
   "source": [
    "Re = rho_f*v*2*r/eta_odr; print(Re)\n",
    "DRe = Re*np.sqrt((Dr/r)**2 + (Dv/v)**2 + (Deta_odr/eta_odr)**2); print(DRe/Re)"
   ]
  },
  {
   "cell_type": "code",
   "execution_count": 21,
   "metadata": {},
   "outputs": [
    {
     "data": {
      "image/png": "[encoded data removed]",
      "text/plain": [
       "<Figure size 432x288 with 1 Axes>"
      ]
     },
     "metadata": {
      "needs_background": "light"
     },
     "output_type": "display_data"
    }
   ],
   "source": [
    "v_lam = fit_func_v(r, eta_odr)\n",
    "Dv_lam = v_lam*Deta_odr/eta_odr\n",
    "ratio = v/v_lam\n",
    "Dratio = ratio*np.sqrt((Dv/v)**2 + (Dv_lam/v_lam)**2)\n",
    "fig, ax = plt.subplots(1,1)\n",
    "ax.errorbar(ratio, Re, xerr = Dratio, yerr = DRe, marker = '.', linestyle = 'none', markersize = 3, elinewidth = 1, capsize = 2)\n",
    "ax.set_yscale('log')\n",
    "ax.set_xlabel(r\"$\\frac{v}{v_{lam}}$\")\n",
    "ax.set_ylabel(\"Re\")\n",
    "fig.savefig('figures/reynolds.png', format = 'png')"
   ]
  },
  {
   "cell_type": "code",
   "execution_count": 22,
   "metadata": {},
   "outputs": [
    {
     "name": "stdout",
     "output_type": "stream",
     "text": [
      "('Kritische Reynoldszahl liegt zwischen ', 0.027460320244717642, ' und ', 0.08164626883865511)\n",
      "('Re_krit = ', 0.05455329454168638, ' +- ', 0.027092974296968733)\n"
     ]
    }
   ],
   "source": [
    "print(\"Kritische Reynoldszahl liegt zwischen \", Re[1], \" und \", Re[2])\n",
    "print(\"Re_krit = \", (Re[1] + Re[2])/2, \" +- \", (Re[2] - Re[1])/2)"
   ]
  },
  {
   "cell_type": "code",
   "execution_count": 23,
   "metadata": {
    "scrolled": true
   },
   "outputs": [
    {
     "data": {
      "text/html": [
       "<div>\n",
       "<style scoped>\n",
       "    .dataframe tbody tr th:only-of-type {\n",
       "        vertical-align: middle;\n",
       "    }\n",
       "\n",
       "    .dataframe tbody tr th {\n",
       "        vertical-align: top;\n",
       "    }\n",
       "\n",
       "    .dataframe thead th {\n",
       "        text-align: right;\n",
       "    }\n",
       "</style>\n",
       "<table border=\"1\" class=\"dataframe\">\n",
       "  <thead>\n",
       "    <tr style=\"text-align: right;\">\n",
       "      <th></th>\n",
       "      <th>0</th>\n",
       "      <th>1</th>\n",
       "      <th>2</th>\n",
       "      <th>3</th>\n",
       "      <th>4</th>\n",
       "      <th>5</th>\n",
       "      <th>6</th>\n",
       "      <th>7</th>\n",
       "      <th>8</th>\n",
       "    </tr>\n",
       "  </thead>\n",
       "  <tbody>\n",
       "    <tr>\n",
       "      <th>$v_{\\text{lam}}$</th>\n",
       "      <td>0.136323</td>\n",
       "      <td>0.239138</td>\n",
       "      <td>0.524163</td>\n",
       "      <td>0.908381</td>\n",
       "      <td>1.384485</td>\n",
       "      <td>1.945865</td>\n",
       "      <td>2.684993</td>\n",
       "      <td>3.301046</td>\n",
       "      <td>4.084451</td>\n",
       "    </tr>\n",
       "    <tr>\n",
       "      <th>$v$</th>\n",
       "      <td>0.160668</td>\n",
       "      <td>0.254194</td>\n",
       "      <td>0.503854</td>\n",
       "      <td>0.870827</td>\n",
       "      <td>1.324153</td>\n",
       "      <td>1.814882</td>\n",
       "      <td>2.452182</td>\n",
       "      <td>2.698813</td>\n",
       "      <td>3.451450</td>\n",
       "    </tr>\n",
       "    <tr>\n",
       "      <th>$\\frac{v}{v_{\\text{lam}}}$</th>\n",
       "      <td>1.178589</td>\n",
       "      <td>1.062959</td>\n",
       "      <td>0.961256</td>\n",
       "      <td>0.958658</td>\n",
       "      <td>0.956423</td>\n",
       "      <td>0.932687</td>\n",
       "      <td>0.913292</td>\n",
       "      <td>0.817563</td>\n",
       "      <td>0.845022</td>\n",
       "    </tr>\n",
       "    <tr>\n",
       "      <th>$Re$</th>\n",
       "      <td>0.013018</td>\n",
       "      <td>0.027460</td>\n",
       "      <td>0.081646</td>\n",
       "      <td>0.188149</td>\n",
       "      <td>0.357617</td>\n",
       "      <td>0.588179</td>\n",
       "      <td>0.946246</td>\n",
       "      <td>1.166199</td>\n",
       "      <td>1.677853</td>\n",
       "    </tr>\n",
       "  </tbody>\n",
       "</table>\n",
       "</div>"
      ],
      "text/plain": [
       "                                   0         1         2         3         4  \\\n",
       "$v_{\\text{lam}}$            0.136323  0.239138  0.524163  0.908381  1.384485   \n",
       "$v$                         0.160668  0.254194  0.503854  0.870827  1.324153   \n",
       "$\\frac{v}{v_{\\text{lam}}}$  1.178589  1.062959  0.961256  0.958658  0.956423   \n",
       "$Re$                        0.013018  0.027460  0.081646  0.188149  0.357617   \n",
       "\n",
       "                                   5         6         7         8  \n",
       "$v_{\\text{lam}}$            1.945865  2.684993  3.301046  4.084451  \n",
       "$v$                         1.814882  2.452182  2.698813  3.451450  \n",
       "$\\frac{v}{v_{\\text{lam}}}$  0.932687  0.913292  0.817563  0.845022  \n",
       "$Re$                        0.588179  0.946246  1.166199  1.677853  "
      ]
     },
     "execution_count": 23,
     "metadata": {},
     "output_type": "execute_result"
    }
   ],
   "source": [
    "table_data = np.vstack((fit_func_v(r, eta_odr)*1e2, v*1e2, v/fit_func_v(r, eta_odr), Re))\n",
    "pd.DataFrame(table_data, index = [\"$v_{\\text{lam}}$\", \"$v$\", r\"$\\frac{v}{v_{\\text{lam}}}$\", \"$Re$\"])"
   ]
  },
  {
   "cell_type": "code",
   "execution_count": 24,
   "metadata": {},
   "outputs": [
    {
     "data": {
      "text/html": [
       "<div>\n",
       "<style scoped>\n",
       "    .dataframe tbody tr th:only-of-type {\n",
       "        vertical-align: middle;\n",
       "    }\n",
       "\n",
       "    .dataframe tbody tr th {\n",
       "        vertical-align: top;\n",
       "    }\n",
       "\n",
       "    .dataframe thead th {\n",
       "        text-align: right;\n",
       "    }\n",
       "</style>\n",
       "<table border=\"1\" class=\"dataframe\">\n",
       "  <thead>\n",
       "    <tr style=\"text-align: right;\">\n",
       "      <th></th>\n",
       "      <th>0</th>\n",
       "      <th>1</th>\n",
       "      <th>2</th>\n",
       "      <th>3</th>\n",
       "      <th>4</th>\n",
       "      <th>5</th>\n",
       "      <th>6</th>\n",
       "      <th>7</th>\n",
       "      <th>8</th>\n",
       "    </tr>\n",
       "  </thead>\n",
       "  <tbody>\n",
       "    <tr>\n",
       "      <th>0</th>\n",
       "      <td>0.004652</td>\n",
       "      <td>0.008160</td>\n",
       "      <td>0.017886</td>\n",
       "      <td>0.030997</td>\n",
       "      <td>0.047243</td>\n",
       "      <td>0.066399</td>\n",
       "      <td>0.091620</td>\n",
       "      <td>0.112641</td>\n",
       "      <td>0.139373</td>\n",
       "    </tr>\n",
       "    <tr>\n",
       "      <th>1</th>\n",
       "      <td>0.003849</td>\n",
       "      <td>0.002054</td>\n",
       "      <td>0.004118</td>\n",
       "      <td>0.005825</td>\n",
       "      <td>0.008433</td>\n",
       "      <td>0.011628</td>\n",
       "      <td>0.013554</td>\n",
       "      <td>0.004688</td>\n",
       "      <td>0.014357</td>\n",
       "    </tr>\n",
       "    <tr>\n",
       "      <th>2</th>\n",
       "      <td>0.000558</td>\n",
       "      <td>0.001001</td>\n",
       "      <td>0.002979</td>\n",
       "      <td>0.006808</td>\n",
       "      <td>0.012919</td>\n",
       "      <td>0.021251</td>\n",
       "      <td>0.034051</td>\n",
       "      <td>0.041517</td>\n",
       "      <td>0.060068</td>\n",
       "    </tr>\n",
       "  </tbody>\n",
       "</table>\n",
       "</div>"
      ],
      "text/plain": [
       "          0         1         2         3         4         5         6  \\\n",
       "0  0.004652  0.008160  0.017886  0.030997  0.047243  0.066399  0.091620   \n",
       "1  0.003849  0.002054  0.004118  0.005825  0.008433  0.011628  0.013554   \n",
       "2  0.000558  0.001001  0.002979  0.006808  0.012919  0.021251  0.034051   \n",
       "\n",
       "          7         8  \n",
       "0  0.112641  0.139373  \n",
       "1  0.004688  0.014357  \n",
       "2  0.041517  0.060068  "
      ]
     },
     "execution_count": 24,
     "metadata": {},
     "output_type": "execute_result"
    }
   ],
   "source": [
    "table_err = np.vstack((fit_func_v(r, eta_odr)*Deta_odr/eta_odr*1e2, Dv*1e2, DRe))\n",
    "pd.DataFrame(table_err)"
   ]
  },
  {
   "cell_type": "markdown",
   "metadata": {},
   "source": [
    "## Hagen-Poiseuille "
   ]
  },
  {
   "cell_type": "code",
   "execution_count": 25,
   "metadata": {},
   "outputs": [
    {
     "data": {
      "text/plain": [
       "0.0026335448088884448"
      ]
     },
     "execution_count": 25,
     "metadata": {},
     "output_type": "execute_result"
    }
   ],
   "source": [
    "h_A = 540e-3\n",
    "h_E = 534e-3\n",
    "h = (h_A + h_E)/2\n",
    "Dh = 2e-3/np.sqrt(2); Dh/h"
   ]
  },
  {
   "cell_type": "code",
   "execution_count": 26,
   "metadata": {},
   "outputs": [],
   "source": [
    "rho_f = 1.1460e3"
   ]
  },
  {
   "cell_type": "code",
   "execution_count": 27,
   "metadata": {},
   "outputs": [
    {
     "data": {
      "text/plain": [
       "0.0026850835281822176"
      ]
     },
     "execution_count": 27,
     "metadata": {},
     "output_type": "execute_result"
    }
   ],
   "source": [
    "# pressure difference:\n",
    "p = h*rho_f*g\n",
    "Dp = p*np.sqrt((Dh/h)**2 + (Drho_f/rho_f)**2); Dp/p"
   ]
  },
  {
   "cell_type": "code",
   "execution_count": 28,
   "metadata": {},
   "outputs": [],
   "source": [
    "# capillary:\n",
    "L = 100e-3\n",
    "DL = 0.5e-3\n",
    "R = 1.5e-3/2\n",
    "DR = 0.01e-3/2"
   ]
  },
  {
   "cell_type": "code",
   "execution_count": 29,
   "metadata": {},
   "outputs": [],
   "source": [
    "vol = np.array([0, 5, 10, 15, 20, 25])*1e-6\n",
    "time = np.array([0, 104, 236, 364, 498, 630])\n",
    "Dvol = 0.5e-6\n",
    "Dtime = 5.0"
   ]
  },
  {
   "cell_type": "code",
   "execution_count": 30,
   "metadata": {},
   "outputs": [
    {
     "name": "stdout",
     "output_type": "stream",
     "text": [
      "[4.80769231e-08 3.78787879e-08 3.90625000e-08 3.73134328e-08\n",
      " 3.78787879e-08 3.96825397e-08]\n"
     ]
    }
   ],
   "source": [
    "# check for errors:\n",
    "flow = (np.concatenate((vol[1:], [0])) - np.concatenate(([0], vol[1:]))) / (np.concatenate((time[1:], [0])) - np.concatenate(([0], time[1:])))\n",
    "print(flow)"
   ]
  },
  {
   "cell_type": "code",
   "execution_count": 31,
   "metadata": {},
   "outputs": [
    {
     "name": "stdout",
     "output_type": "stream",
     "text": [
      "3.968253968253968e-08\n",
      "1.2075340857971035e-09\n"
     ]
    }
   ],
   "source": [
    "total_time = time[5] - time[0]\n",
    "total_vol = vol[5] - vol[0]\n",
    "avg_flow = total_vol/total_time\n",
    "print(avg_flow)\n",
    "\n",
    "Dtotal_time = np.sqrt(2)*Dtime\n",
    "Dtotal_vol = np.sqrt(2)*Dvol\n",
    "Davg_flow = avg_flow*np.sqrt((Dtotal_time/total_time)**2 + (Dtotal_vol/total_vol)**2)\n",
    "print(Davg_flow)"
   ]
  },
  {
   "cell_type": "code",
   "execution_count": 32,
   "metadata": {},
   "outputs": [
    {
     "name": "stdout",
     "output_type": "stream",
     "text": [
      "('Vsicosity: ', 0.18903115623357136, ' +- ', 0.007706555722928347)\n"
     ]
    }
   ],
   "source": [
    "eta_hp = np.pi*p*R**4 / (8*avg_flow*L)\n",
    "Deta_hp = eta_hp * np.sqrt((4*DR/R)**2 + (Davg_flow/avg_flow)**2 + (DL/L)**2)\n",
    "print(\"Vsicosity: \", eta_hp, \" +- \", Deta_hp)"
   ]
  },
  {
   "cell_type": "code",
   "execution_count": 33,
   "metadata": {},
   "outputs": [
    {
     "name": "stdout",
     "output_type": "stream",
     "text": [
      "0.2042064924177512\n"
     ]
    }
   ],
   "source": [
    "# Reynolds number:\n",
    "Re_hp = rho_f*avg_flow*2*R / (np.pi*R**2*eta_hp)\n",
    "print(Re_hp)"
   ]
  },
  {
   "cell_type": "code",
   "execution_count": 34,
   "metadata": {},
   "outputs": [
    {
     "name": "stdout",
     "output_type": "stream",
     "text": [
      "2.197863504475689\n"
     ]
    }
   ],
   "source": [
    "# deviation:\n",
    "combined_error = np.sqrt(Deta_odr**2 + Deta_hp**2)\n",
    "sigma_val = abs(eta_hp - eta_odr) / combined_error\n",
    "print(sigma_val)"
   ]
  }
 ],
 "metadata": {
  "kernelspec": {
   "display_name": "Python 2",
   "language": "python",
   "name": "python2"
  },
  "language_info": {
   "codemirror_mode": {
    "name": "ipython",
    "version": 2
   },
   "file_extension": ".py",
   "mimetype": "text/x-python",
   "name": "python",
   "nbconvert_exporter": "python",
   "pygments_lexer": "ipython2",
   "version": "2.7.17"
  }
 },
 "nbformat": 4,
 "nbformat_minor": 2
}
