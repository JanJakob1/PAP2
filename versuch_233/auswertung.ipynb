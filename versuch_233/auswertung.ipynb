{
 "cells": [
  {
   "cell_type": "markdown",
   "metadata": {},
   "source": [
    "<font size=\"+2\"><p style=\"text-align: center;\"><b> Auswertung Versuch 233 PAP 2.1. </p></font>"
   ]
  },
  {
   "cell_type": "code",
   "execution_count": 3,
   "metadata": {},
   "outputs": [],
   "source": [
    "import matplotlib.pyplot as plt\n",
    "import numpy as np\n",
    "from scipy.integrate import quad\n",
    "from scipy.optimize import curve_fit\n",
    "from scipy.signal import find_peaks"
   ]
  },
  {
   "cell_type": "code",
   "execution_count": 4,
   "metadata": {},
   "outputs": [],
   "source": [
    "plt.rc('lines', linewidth = 0.8, marker = '.', markersize = 3, markeredgewidth = 0.4)\n",
    "plt.rc('errorbar', capsize = 2, )"
   ]
  },
  {
   "cell_type": "code",
   "execution_count": 5,
   "metadata": {},
   "outputs": [],
   "source": [
    "def linear(x, a, b):\n",
    "    return a*x + b\n",
    "\n",
    "def linear_inv(y, a, b):\n",
    "    return (y - b)/a"
   ]
  },
  {
   "cell_type": "code",
   "execution_count": 6,
   "metadata": {},
   "outputs": [],
   "source": [
    "def beugung_spalt(x):\n",
    "    return np.sinc(x)**2"
   ]
  },
  {
   "cell_type": "code",
   "execution_count": 7,
   "metadata": {},
   "outputs": [],
   "source": [
    "def beugung_doppelspalt(x, _g, _d):\n",
    "    return beugung_spalt(x) * np.cos(np.pi*_g/_d*x)**2"
   ]
  },
  {
   "cell_type": "code",
   "execution_count": 8,
   "metadata": {},
   "outputs": [],
   "source": [
    "# Ablesefehler der Positionsmessungen (in px):\n",
    "px_error = 2\n",
    "\n",
    "# Brennweite von L1 in mm\n",
    "f1 = 80\n",
    "\n",
    "# Wellenlänge des Lasers in mm\n",
    "lamb = 635e-6\n",
    "\n",
    "# Breite eines Pixels in mm:\n",
    "pxbreite = 14e-3"
   ]
  },
  {
   "cell_type": "markdown",
   "metadata": {},
   "source": [
    "## 3.1 Quantitative Beobachtungen am Einfachspalt"
   ]
  },
  {
   "cell_type": "markdown",
   "metadata": {},
   "source": [
    "### Eichung der Abszisse"
   ]
  },
  {
   "cell_type": "markdown",
   "metadata": {},
   "source": [
    "Zunächst bestimmen wir, wieviel Pixel auf der Kamera 1 mm in der Fourierebene entsprechen. Dazu wurde zu Beginn des Versuchs der Analysierspalt in der Fourierebene auf drei verschiedene Weiten eingestellt und die zugehörigen Abstände in Pixel auf dem Monitor abgelesen."
   ]
  },
  {
   "cell_type": "code",
   "execution_count": 12,
   "metadata": {},
   "outputs": [
    {
     "name": "stdout",
     "output_type": "stream",
     "text": [
      "[784.48 622.   501.04]\n"
     ]
    }
   ],
   "source": [
    "# Breiten in der Fourierebene (d.h. Öffnung des Analysierspalts)\n",
    "x_fourier = np.array([1.1, 0.79, 0.615])*2\n",
    "Dx_fourier = 0.01*2\n",
    "\n",
    "# Breiten auf Kamera:\n",
    "x_kamera = np.array([1427.3, 1341.19, 1286.73]) - np.array([642.82, 719.19, 785.69])\n",
    "x_kamera_error = np.sqrt(2)*10\n",
    "print(x_kamera)"
   ]
  },
  {
   "cell_type": "code",
   "execution_count": 13,
   "metadata": {},
   "outputs": [
    {
     "name": "stdout",
     "output_type": "stream",
     "text": [
      "('Abstand Kamera / Abstand Fourierebene = ', 375.72409126680304, ' +- ', 15.203048208024626, ' px/mm')\n"
     ]
    }
   ],
   "source": [
    "popt, pcov = curve_fit(lambda x, m: m*x, x_fourier, x_kamera, sigma = np.repeat(x_kamera_error, 3))\n",
    "conv_factor = popt[0]\n",
    "conv_factor_error = np.sqrt(pcov[0][0])\n",
    "print('Abstand Kamera / Abstand Fourierebene = ', conv_factor, ' +- ', conv_factor_error, ' px/mm')"
   ]
  },
  {
   "cell_type": "markdown",
   "metadata": {},
   "source": [
    "Somit entspricht ein Abstand von 1mm des Analysierspalts etwa $357.7 \\pm 12.2$ Pixel auf dem Monitor"
   ]
  },
  {
   "cell_type": "code",
   "execution_count": 22,
   "metadata": {},
   "outputs": [
    {
     "data": {
      "text/plain": [
       "Text(0.5,1,'Diagramm 20: Eichung der Abszisse')"
      ]
     },
     "execution_count": 22,
     "metadata": {},
     "output_type": "execute_result"
    },
    {
     "data": {
      "image/png": "[encoded data removed]",
      "text/plain": [
       "<Figure size 432x288 with 1 Axes>"
      ]
     },
     "metadata": {
      "needs_background": "light"
     },
     "output_type": "display_data"
    }
   ],
   "source": [
    "plt.errorbar(x_fourier, x_kamera, yerr = x_kamera_error, linestyle = 'none')\n",
    "plt.plot(x_fourier, conv_factor*x_fourier)\n",
    "plt.xlabel('Weite des Analysierspalts [mm]')\n",
    "plt.ylabel('Abstand auf dem Monitor [px]')\n",
    "plt.title('Diagramm 20: Eichung der Abszisse')"
   ]
  },
  {
   "cell_type": "markdown",
   "metadata": {},
   "source": [
    "## Berechnung der Spaltweite"
   ]
  },
  {
   "cell_type": "code",
   "execution_count": 23,
   "metadata": {},
   "outputs": [],
   "source": [
    "# Position der Minima in px\n",
    "minima = np.array([953.34, 875.24, 798.87, 720.77, 642.67])\n",
    "maxima = np.array([1029.71, 918.63, 837.06, 760.69, 682.59, 602.75])\n",
    "n_minima = np.arange(1, 6)"
   ]
  },
  {
   "cell_type": "markdown",
   "metadata": {},
   "source": [
    "Die Minima liegen für kleine Winkel $\\alpha$ bei\n",
    "$$n \\cdot \\lambda = d \\cdot \\sin(\\alpha) \\approx d \\cdot \\frac{x_\\text{fourier}}{f_1}$$\n",
    "d.h.\n",
    "$$d \\approx \\lambda f_1 \\cdot \\frac{n}{x_\\text{fourier}}$$"
   ]
  },
  {
   "cell_type": "code",
   "execution_count": 25,
   "metadata": {},
   "outputs": [],
   "source": [
    "popt, pcov = curve_fit(linear, n_minima, minima, sigma = np.repeat(px_error, 5))\n",
    "steigung = -popt[0]/conv_factor # Umrechnung von Pixel in mm\n",
    "steigung_error = steigung*np.sqrt((np.sqrt(pcov[0][0])/popt[0])**2 + (conv_factor_error/conv_factor)**2)"
   ]
  },
  {
   "cell_type": "code",
   "execution_count": 26,
   "metadata": {},
   "outputs": [
    {
     "name": "stdout",
     "output_type": "stream",
     "text": [
      "('Spaltbreite: d = ', 0.2460239470426583, ' +- ', 0.009970053958427937, ' mm')\n"
     ]
    }
   ],
   "source": [
    "d = lamb*f1/steigung\n",
    "d_error = d*steigung_error/steigung\n",
    "print('Spaltbreite: d = ', d, ' +- ', d_error, ' mm')"
   ]
  },
  {
   "cell_type": "code",
   "execution_count": 27,
   "metadata": {},
   "outputs": [
    {
     "name": "stdout",
     "output_type": "stream",
     "text": [
      "[0.01560949 1.44740336 2.49882059 3.4832111  4.48990088 5.51901883]\n"
     ]
    },
    {
     "ename": "NameError",
     "evalue": "name 'Dpx' is not defined",
     "output_type": "error",
     "traceback": [
      "\u001b[0;31m---------------------------------------------------------------------------\u001b[0m",
      "\u001b[0;31mNameError\u001b[0m                                 Traceback (most recent call last)",
      "\u001b[0;32m<ipython-input-27-13551f32637a>\u001b[0m in \u001b[0;36m<module>\u001b[0;34m()\u001b[0m\n\u001b[1;32m      1\u001b[0m \u001b[0mn_maxima\u001b[0m \u001b[0;34m=\u001b[0m \u001b[0mlinear_inv\u001b[0m\u001b[0;34m(\u001b[0m\u001b[0mmaxima\u001b[0m\u001b[0;34m,\u001b[0m \u001b[0;34m*\u001b[0m\u001b[0mpopt\u001b[0m\u001b[0;34m)\u001b[0m\u001b[0;34m\u001b[0m\u001b[0m\n\u001b[1;32m      2\u001b[0m \u001b[0;32mprint\u001b[0m\u001b[0;34m(\u001b[0m\u001b[0mn_maxima\u001b[0m\u001b[0;34m)\u001b[0m\u001b[0;34m\u001b[0m\u001b[0m\n\u001b[0;32m----> 3\u001b[0;31m \u001b[0mn_maxima_error\u001b[0m \u001b[0;34m=\u001b[0m \u001b[0mn_maxima\u001b[0m \u001b[0;34m*\u001b[0m \u001b[0mnp\u001b[0m\u001b[0;34m.\u001b[0m\u001b[0msqrt\u001b[0m\u001b[0;34m(\u001b[0m\u001b[0;34m(\u001b[0m\u001b[0mnp\u001b[0m\u001b[0;34m.\u001b[0m\u001b[0msqrt\u001b[0m\u001b[0;34m(\u001b[0m\u001b[0mpcov\u001b[0m\u001b[0;34m[\u001b[0m\u001b[0;36m0\u001b[0m\u001b[0;34m]\u001b[0m\u001b[0;34m[\u001b[0m\u001b[0;36m0\u001b[0m\u001b[0;34m]\u001b[0m\u001b[0;34m)\u001b[0m\u001b[0;34m/\u001b[0m\u001b[0mpopt\u001b[0m\u001b[0;34m[\u001b[0m\u001b[0;36m0\u001b[0m\u001b[0;34m]\u001b[0m\u001b[0;34m)\u001b[0m\u001b[0;34m**\u001b[0m\u001b[0;36m2\u001b[0m \u001b[0;34m+\u001b[0m \u001b[0;34m(\u001b[0m\u001b[0mDpx\u001b[0m\u001b[0;34m/\u001b[0m\u001b[0mmaxima\u001b[0m\u001b[0;34m)\u001b[0m\u001b[0;34m**\u001b[0m\u001b[0;36m2\u001b[0m\u001b[0;34m)\u001b[0m\u001b[0;34m\u001b[0m\u001b[0m\n\u001b[0m\u001b[1;32m      4\u001b[0m \u001b[0;32mprint\u001b[0m\u001b[0;34m(\u001b[0m\u001b[0mDn_maxima\u001b[0m\u001b[0;34m)\u001b[0m\u001b[0;34m\u001b[0m\u001b[0m\n",
      "\u001b[0;31mNameError\u001b[0m: name 'Dpx' is not defined"
     ]
    }
   ],
   "source": [
    "n_maxima = linear_inv(maxima, *popt)\n",
    "print(n_maxima)\n",
    "n_maxima_error = n_maxima * np.sqrt((np.sqrt(pcov[0][0])/popt[0])**2 + (Dpx/maxima)**2)\n",
    "print(Dn_maxima)"
   ]
  },
  {
   "cell_type": "code",
   "execution_count": 40,
   "metadata": {},
   "outputs": [
    {
     "data": {
      "image/png": "[encoded data removed]",
      "text/plain": [
       "<Figure size 432x288 with 1 Axes>"
      ]
     },
     "metadata": {
      "needs_background": "light"
     },
     "output_type": "display_data"
    }
   ],
   "source": [
    "plt.errorbar(n_minima, popt[1] - minima, yerr = px_error, linestyle = 'none')\n",
    "plt.errorbar(n_maxima, popt[1] - maxima, xerr = n_maxima_error, linestyle = 'none')\n",
    "plt.plot(n_maxima, popt[1] - linear(n_maxima, *popt), marker = '')\n",
    "plt.xlabel('n')\n",
    "plt.ylabel('Position x [px]')\n",
    "plt.ylim(bottom = 0)\n",
    "plt.xlim(left = 0)\n",
    "plt.savefig('fig/minima_maxima_pos.pdf')"
   ]
  },
  {
   "cell_type": "code",
   "execution_count": 15,
   "metadata": {},
   "outputs": [
    {
     "name": "stdout",
     "output_type": "stream",
     "text": [
      "[0.00336073 0.00502872 0.00834029 0.01648002 0.04719042 0.99999999]\n",
      "[5.00050005e-05 1.43003300e+00 2.45920592e+00 3.47068707e+00\n",
      " 4.47728773e+00 5.48144814e+00]\n"
     ]
    }
   ],
   "source": [
    "# Numerische Bestimmung der theoretischen Maxima:\n",
    "x = np.linspace(-6, 0.1, 10000)\n",
    "intens_theo = beugung_spalt(x)\n",
    "maxima_indices, maxima_prop = find_peaks(intens_theo, height = 0)\n",
    "print(maxima_prop['peak_heights'])\n",
    "nebenmaxima_theo = np.flip(maxima_prop['peak_heights'][:-1])\n",
    "print(np.flip(-x[maxima_indices]))"
   ]
  },
  {
   "cell_type": "markdown",
   "metadata": {},
   "source": [
    "## Intensitäten"
   ]
  },
  {
   "cell_type": "code",
   "execution_count": 16,
   "metadata": {},
   "outputs": [],
   "source": [
    "untergrund_1 = np.mean([125, 132])\n",
    "untergrund_2 = np.mean([191, 148])\n",
    "verhaeltnis = (3513 - untergrund_1)/(315.8 - untergrund_2)\n",
    "\n",
    "intens = (np.array([3513, 1550, 897.7, 579.2, 412]) - untergrund_2) / verhaeltnis / (3719 - untergrund_1)\n",
    "Dintens = 0.02*intens"
   ]
  },
  {
   "cell_type": "code",
   "execution_count": 17,
   "metadata": {},
   "outputs": [
    {
     "name": "stdout",
     "output_type": "stream",
     "text": [
      "[0.04025281 0.01662001 0.00876689 0.00493243 0.00291949]\n",
      "[0.04719042 0.01648002 0.00834029 0.00502872 0.00336073]\n",
      "[-8.61754342  0.4211479   2.43302124 -0.97608124 -7.55684194]\n"
     ]
    }
   ],
   "source": [
    "print(intens)\n",
    "print(nebenmaxima_theo)\n",
    "# Abweichung in sigma:\n",
    "print((intens - nebenmaxima_theo) / Dintens)"
   ]
  },
  {
   "cell_type": "markdown",
   "metadata": {},
   "source": [
    "# Aufgabe 4"
   ]
  },
  {
   "cell_type": "markdown",
   "metadata": {},
   "source": [
    "## Maße des Doppelspalts"
   ]
  },
  {
   "cell_type": "code",
   "execution_count": 18,
   "metadata": {},
   "outputs": [],
   "source": [
    "# Bildweite in mm:\n",
    "b = 633\n",
    "Db = 5\n",
    "\n",
    "# Gegenstandsweite\n",
    "g_weite  = 1/(1/f1 + 1/b)\n",
    "Dg_weite = 1/(1/f1 + 1/b)**2 * 1/b**2 * Db\n",
    "\n",
    "# Vergrößerung von Objekt zu Bildebene:\n",
    "vergroesserung = b/g_weite # = 1 + b/f1\n",
    "Dvergroesserung = Db/f1"
   ]
  },
  {
   "cell_type": "code",
   "execution_count": 19,
   "metadata": {},
   "outputs": [],
   "source": [
    "# Spaltabstand mitte-mitte in px:\n",
    "g_px = np.mean([794.9, 916.8]) - np.mean([508.0, 630.9])\n",
    "\n",
    "# Für Spaltbreite Mittelwert aus beiden Spaltbreiten:\n",
    "d2_px = np.mean([630.9 - 508.0, 916.8 - 794.9])\n",
    "\n",
    "Dg_px = np.sqrt(2)*5\n",
    "Dd2_px = np.sqrt(2)*5"
   ]
  },
  {
   "cell_type": "code",
   "execution_count": 20,
   "metadata": {},
   "outputs": [
    {
     "name": "stdout",
     "output_type": "stream",
     "text": [
      "Spaltabstand: g =  0.449884992987377  +-  0.011546782162032  mm\n",
      "Spaltbreite: d =  0.19226928471248242  +-  0.014384219113103162  mm\n"
     ]
    }
   ],
   "source": [
    "g = g_px*pxbreite/vergroesserung\n",
    "Dg = g*np.sqrt((Dg_px/g_px)**2 + (Dvergroesserung/vergroesserung)**2)\n",
    "\n",
    "d2 = d2_px*pxbreite/vergroesserung\n",
    "Dd2 = d*np.sqrt((Dd2_px/d2_px)**2 + (Dvergroesserung/vergroesserung)**2)\n",
    "\n",
    "print('Spaltabstand: g = ', g, ' +- ', Dg, ' mm')\n",
    "print('Spaltbreite: d = ', d2, ' +- ', Dd2, ' mm')"
   ]
  },
  {
   "cell_type": "markdown",
   "metadata": {},
   "source": [
    "## Berechnung der theoretischen Bilder"
   ]
  },
  {
   "cell_type": "code",
   "execution_count": 21,
   "metadata": {},
   "outputs": [],
   "source": [
    "def doppelspalt(k, y):\n",
    "    return d2/np.pi * np.sin(k*d2/2)/(k*d2/2) * np.cos(k*y) * np.cos(k*g/2)"
   ]
  },
  {
   "cell_type": "code",
   "execution_count": 22,
   "metadata": {},
   "outputs": [],
   "source": [
    "Y_ = np.linspace(-2, 2, 200)*d2\n",
    "f_mod_ = np.empty((3, len(Y_)))\n",
    "\n",
    "for n in range(1, 4):\n",
    "    for i, y in enumerate(Y_):\n",
    "        result, error = quad(lambda k: doppelspalt(k, y), 0, 2*np.pi*n/d2)\n",
    "        f_mod_[n - 1, i] = result**2\n",
    "# Normieren auf Maximum 0-ter Ordnung:\n",
    "max_0_ = np.max(f_mod_[0])\n",
    "for n in range(1, 4):\n",
    "    f_mod_[n - 1] = f_mod_[n - 1]/max_0_"
   ]
  },
  {
   "cell_type": "code",
   "execution_count": 23,
   "metadata": {},
   "outputs": [
    {
     "data": {
      "image/png": "[encoded data removed]",
      "text/plain": [
       "<Figure size 345.6x460.8 with 3 Axes>"
      ]
     },
     "metadata": {
      "needs_background": "light"
     },
     "output_type": "display_data"
    }
   ],
   "source": [
    "fig, ax = plt.subplots(3, 1, sharex = True, figsize = (4.8, 6.4))\n",
    "for n in range(1, 4):\n",
    "    ax[n - 1].plot(Y_/d2, f_mod_[n - 1], marker = '')\n",
    "    ax[n - 1].set_ylim((0, 1.1))\n",
    "    if n == 3:\n",
    "        ax[n - 1].set_xlabel('y / d')\n",
    "    ax[n - 1].set_ylabel('Intensität [b.E.]')\n",
    "    ax[n - 1].set_title('n = %i' % n)\n",
    "plt.savefig('fig/doppelspalt_mod.pdf')"
   ]
  },
  {
   "cell_type": "code",
   "execution_count": 24,
   "metadata": {},
   "outputs": [
    {
     "data": {
      "image/png": "[encoded data removed]",
      "text/plain": [
       "<Figure size 432x288 with 1 Axes>"
      ]
     },
     "metadata": {
      "needs_background": "light"
     },
     "output_type": "display_data"
    }
   ],
   "source": [
    "# Fall b):\n",
    "f_mod_b = np.empty(Y_.size)\n",
    "k_y_theo = 0.67 * 2*np.pi/g\n",
    "for i, y in enumerate(Y_):\n",
    "    result, error = quad(lambda k: doppelspalt(k, y), 0, k_y_theo)\n",
    "    f_mod_b[i] = result**2/max_0_\n",
    "    \n",
    "plt.plot(Y_/d2, f_mod_b, marker = '')\n",
    "plt.ylim((0, 1.1))\n",
    "plt.xlabel('y / d')\n",
    "plt.ylabel('Intensität [b.E.]')\n",
    "plt.savefig('fig/fall_b.pdf')"
   ]
  },
  {
   "cell_type": "code",
   "execution_count": 25,
   "metadata": {},
   "outputs": [
    {
     "name": "stdout",
     "output_type": "stream",
     "text": [
      "Fall a):\n",
      "Experimentell:  38.342272543812435  +-  1.2368475014133042  1/mm\n",
      "Theoretisch:  32.679090248738376\n",
      "Abweichung:  4.578723155929029\n",
      "Fall b):\n",
      "Experimentell:  17.315865019786266  +-  1.2368475014133047  1/mm\n",
      "Theoretisch:  9.357356260888748  1/mm\n",
      "Abweichung:  6.434510923782918\n"
     ]
    }
   ],
   "source": [
    "k_y_a = 2*np.pi/lamb * 0.31/f1\n",
    "Dk_y_a = k_y_a*0.01/0.31\n",
    "print('Fall a):')\n",
    "print('Experimentell: ', k_y_a, ' +- ', Dk_y_a, ' 1/mm')\n",
    "print('Theoretisch: ', 2*np.pi/d2)\n",
    "print('Abweichung: ', (k_y_a - 2*np.pi/d2)/Dk_y_a)\n",
    "\n",
    "k_y_b = 2*np.pi/lamb * 0.14/f1\n",
    "Dk_y_b = k_y_b*0.01/0.14\n",
    "print('Fall b):')\n",
    "print('Experimentell: ', k_y_b, ' +- ', Dk_y_b, ' 1/mm')\n",
    "print('Theoretisch: ', k_y_theo, ' 1/mm')\n",
    "print('Abweichung: ', (k_y_b - k_y_theo)/Dk_y_b)"
   ]
  },
  {
   "cell_type": "markdown",
   "metadata": {},
   "source": [
    "# Aufgabe 2"
   ]
  },
  {
   "cell_type": "markdown",
   "metadata": {},
   "source": [
    "## Berechnung der Beugungsbilder"
   ]
  },
  {
   "cell_type": "code",
   "execution_count": 26,
   "metadata": {},
   "outputs": [
    {
     "data": {
      "image/png": "[encoded data removed]",
      "text/plain": [
       "<Figure size 432x288 with 1 Axes>"
      ]
     },
     "metadata": {
      "needs_background": "light"
     },
     "output_type": "display_data"
    }
   ],
   "source": [
    "# Anzahl zu zeigender Nebenmaxima:\n",
    "a = 1\n",
    "\n",
    "x2 = np.linspace(-(a + 1), a + 1, 400)\n",
    "intens_theo2 = beugung_doppelspalt(x2, g, d2)\n",
    "\n",
    "plt.plot(x2, beugung_spalt(x2), label = 'Spalt', marker = '')\n",
    "plt.plot(x2, intens_theo2, label = 'Doppelspalt', marker = '')\n",
    "plt.xlabel('$\\pi x$')\n",
    "plt.ylabel('Intensität [b.E.]')\n",
    "plt.ylim((0, 1.1))\n",
    "plt.legend()\n",
    "plt.title('Beugung am Spalt und Doppelspalt (theoretisch)')\n",
    "plt.savefig('fig/beugung_spalt_doppelspalt.pdf')"
   ]
  },
  {
   "cell_type": "code",
   "execution_count": 27,
   "metadata": {},
   "outputs": [
    {
     "name": "stdout",
     "output_type": "stream",
     "text": [
      "[0.04934042 0.54927492 0.99856039 0.54927492 0.04934042]\n"
     ]
    }
   ],
   "source": [
    "# Numerische Bestimmung der theoretischen Maxima:\n",
    "maxima_indices2, maxima_prop2 = find_peaks(intens_theo2, height = 0.04)\n",
    "print(maxima_prop2['peak_heights'])\n",
    "nebenmaxima_theo2 = np.flip(maxima_prop2['peak_heights'][:2])"
   ]
  },
  {
   "cell_type": "code",
   "execution_count": 28,
   "metadata": {},
   "outputs": [
    {
     "name": "stdout",
     "output_type": "stream",
     "text": [
      "[0.09726049 0.61427975 0.99824982 0.61427975 0.09726049]\n",
      "[0.11834661 0.97121326]\n"
     ]
    },
    {
     "data": {
      "image/png": "[encoded data removed]",
      "text/plain": [
       "<Figure size 432x288 with 1 Axes>"
      ]
     },
     "metadata": {
      "needs_background": "light"
     },
     "output_type": "display_data"
    }
   ],
   "source": [
    "# Durch Einsetzen anderer Werte für d und g Unsicherheit der theoretischen Werte bestimmen:\n",
    "intens_theo2_test = beugung_doppelspalt(x2, g + Dg, d2 - Dd2)\n",
    "\n",
    "plt.plot(x2, beugung_spalt(x2), label = 'Spalt', marker = '')\n",
    "plt.plot(x2, intens_theo2_test, label = 'Doppelspalt', marker = '')\n",
    "plt.xlabel('$\\pi x$')\n",
    "plt.ylabel('Intensität [b.E.]')\n",
    "plt.ylim((0, 1.1))\n",
    "plt.legend()\n",
    "plt.title('Beugung am Spalt und Doppelspalt (theoretisch)')\n",
    "\n",
    "maxima_indices2_test, maxima_prop2_test = find_peaks(intens_theo2_test, height = 0.05)\n",
    "print(maxima_prop2_test['peak_heights'])\n",
    "nebenmaxima_theo2_test = np.flip(maxima_prop2_test['peak_heights'][:2])\n",
    "Dnebenmaxima_theo2 = np.abs(nebenmaxima_theo2 - nebenmaxima_theo2_test)\n",
    "print(Dnebenmaxima_theo2/nebenmaxima_theo2)"
   ]
  },
  {
   "cell_type": "markdown",
   "metadata": {},
   "source": [
    "## Vergleich mit Messwerten"
   ]
  },
  {
   "cell_type": "code",
   "execution_count": 29,
   "metadata": {},
   "outputs": [],
   "source": [
    "untergrund = np.mean([136, 134])\n",
    "\n",
    "intens2 = (np.array([2261, 360.6]) - untergrund) / (3554 - untergrund)\n",
    "Dintens2 = 0.02*intens2"
   ]
  },
  {
   "cell_type": "code",
   "execution_count": 30,
   "metadata": {},
   "outputs": [
    {
     "name": "stdout",
     "output_type": "stream",
     "text": [
      "[0.62181925 0.06598421]\n",
      "[0.01243638 0.00131968]\n",
      "[0.54927492 0.04934042]\n",
      "[0.06500483 0.04792007]\n",
      "[1.09610447 0.34719228]\n"
     ]
    }
   ],
   "source": [
    "print(intens2)\n",
    "print(Dintens2)\n",
    "print(nebenmaxima_theo2)\n",
    "print(Dnebenmaxima_theo2)\n",
    "# Abweichung in sigma:\n",
    "print((intens2 - nebenmaxima_theo2) / np.sqrt(Dintens2**2 + Dnebenmaxima_theo2**2))"
   ]
  },
  {
   "cell_type": "markdown",
   "metadata": {},
   "source": [
    "# Aufgabe 3"
   ]
  },
  {
   "cell_type": "markdown",
   "metadata": {},
   "source": [
    "## Bestimmung der Spaltbreite"
   ]
  },
  {
   "cell_type": "code",
   "execution_count": 31,
   "metadata": {},
   "outputs": [
    {
     "name": "stdout",
     "output_type": "stream",
     "text": [
      "Spaltbreite Einzelspalt: d =  0.19148387096774186  +-  0.011188300722417183  mm\n",
      "Abweichung zu erster Messung:  -0.7781091012516531  sigma\n"
     ]
    }
   ],
   "source": [
    "# Spaltbreite in px:\n",
    "d_alt_kamera = 1013.5 - 891.6\n",
    "Dd_alt_kamera = np.sqrt(2)*5\n",
    "\n",
    "d_alt = d_alt_kamera*pxbreite/vergroesserung\n",
    "Dd_alt = d_alt*np.sqrt((Dd_alt_kamera/d_alt_kamera)**2 + (Dvergroesserung/vergroesserung)**2)\n",
    "print('Spaltbreite Einzelspalt: d = ', d_alt, ' +- ', Dd_alt, ' mm')\n",
    "\n",
    "diff = d_alt - d\n",
    "print('Abweichung zu erster Messung: ', diff/np.sqrt(Dd_alt**2 + Dd**2), ' sigma')"
   ]
  },
  {
   "cell_type": "markdown",
   "metadata": {},
   "source": [
    "## Vergleich mit theoretischen Bildern"
   ]
  },
  {
   "cell_type": "code",
   "execution_count": 32,
   "metadata": {},
   "outputs": [],
   "source": [
    "def spalt(k, y):\n",
    "    return d_alt/np.pi * np.sin(k*d_alt/2)/(k*d_alt/2) * np.cos(k*y)"
   ]
  },
  {
   "cell_type": "code",
   "execution_count": 33,
   "metadata": {},
   "outputs": [],
   "source": [
    "# Integrationsbereich: bis zum n-ten Minimum\n",
    "Y = np.linspace(-1, 1, 3200)*d_alt\n",
    "f_mod = np.empty((3, len(Y)))\n",
    "\n",
    "for n in range(1, 4):\n",
    "    for i, y in enumerate(Y):\n",
    "        result, error = quad(lambda k: spalt(k, y), 0, 2*np.pi*n/d_alt)\n",
    "        f_mod[n - 1, i] = result**2\n",
    "# Normieren auf Maximum 0-ter Ordnung:\n",
    "max_0 = np.max(f_mod[0])\n",
    "for n in range(1, 4):\n",
    "    f_mod[n - 1] = f_mod[n - 1]/max_0"
   ]
  },
  {
   "cell_type": "code",
   "execution_count": 34,
   "metadata": {},
   "outputs": [
    {
     "data": {
      "image/png": "[encoded data removed]",
      "text/plain": [
       "<Figure size 345.6x460.8 with 3 Axes>"
      ]
     },
     "metadata": {
      "needs_background": "light"
     },
     "output_type": "display_data"
    }
   ],
   "source": [
    "fig, ax = plt.subplots(3, 1, sharex = True, figsize = (4.8, 6.4))\n",
    "for n in range(1, 4):\n",
    "    ax[n - 1].plot(Y/d_alt, f_mod[n - 1], marker = '')\n",
    "    ax[n - 1].set_ylim((0, 1.1))\n",
    "    if n == 3:\n",
    "        ax[n - 1].set_xlabel('y / d')\n",
    "    ax[n - 1].set_ylabel('Intensität [b.E.]')\n",
    "    ax[n - 1].set_title('n = %i' % n)\n",
    "plt.savefig('fig/spalt_mod.pdf')"
   ]
  },
  {
   "cell_type": "code",
   "execution_count": 35,
   "metadata": {},
   "outputs": [],
   "source": [
    "# Abstände zwischen Maxima in y/d:\n",
    "# n = 2:\n",
    "dist_max_2 = (985.5 - 924.7)/d_alt_kamera\n",
    "Ddist_max_2 = dist_max_2 * np.sqrt((np.sqrt(2)*5/(985.5 - 924.7))**2 + (Dd_alt_kamera/d_alt_kamera)**2)\n",
    "# n = 3:\n",
    "dist_max_3 = np.diff([913.6, 954.1, 996.4])/d_alt_kamera\n",
    "Ddist_max_3 = dist_max_3 * np.sqrt((np.sqrt(2)*5/np.diff([913.6, 954.1, 996.4]))**2 + (Dd_alt_kamera/d_alt_kamera)**2)"
   ]
  },
  {
   "cell_type": "code",
   "execution_count": 36,
   "metadata": {},
   "outputs": [],
   "source": [
    "# Peaks der theoretischen Bilder:\n",
    "# n = 2\n",
    "peaks_theo_2, max_heights_2 = find_peaks(f_mod[1], height = 0.5)\n",
    "# n = 3\n",
    "peaks_theo_3, max_heights_3 = find_peaks(f_mod[2], height = 0.5)\n",
    "max_heights_2 = max_heights_2['peak_heights']\n",
    "max_heights_3 = max_heights_3['peak_heights']\n",
    "\n",
    "# Abstände der peaks:\n",
    "dist_theo_2 = np.diff(peaks_theo_2)/1600 # 3200 Punkte auf [-1, 1]\n",
    "dist_theo_3 = np.diff(peaks_theo_3)/1600"
   ]
  },
  {
   "cell_type": "code",
   "execution_count": 37,
   "metadata": {},
   "outputs": [
    {
     "name": "stdout",
     "output_type": "stream",
     "text": [
      "n = 2 (gemessen):  0.49876948318293657\n",
      "      (theoretisch):  [0.499375]\n",
      "      Abweichung:  [-0.00934122]\n",
      "n = 3 (gemessen):  [0.33223954 0.34700574]\n",
      "      (theoretisch):  [0.333125 0.33375 ]\n",
      "      Abweichung:  [-0.01448608  0.21589058]\n"
     ]
    }
   ],
   "source": [
    "print('n = 2 (gemessen): ', dist_max_2)\n",
    "print('      (theoretisch): ', dist_theo_2)\n",
    "print('      Abweichung: ', (dist_max_2 - dist_theo_2)/Ddist_max_2)\n",
    "print('n = 3 (gemessen): ', dist_max_3)\n",
    "print('      (theoretisch): ', dist_theo_3)\n",
    "print('      Abweichung: ', (dist_max_3 - dist_theo_3)/Ddist_max_3)"
   ]
  },
  {
   "cell_type": "code",
   "execution_count": 38,
   "metadata": {},
   "outputs": [],
   "source": [
    "# Intensitäten der Maxima und Minima:\n",
    "untergrund_1 = np.mean([154, 158])\n",
    "untergrund_2 = np.mean([142, 143])\n",
    "untergrund_3 = np.mean([144, 144])\n",
    "\n",
    "intens_max_2 = (np.array([3042, 3108]) - untergrund_2) / (3247 - untergrund_1)\n",
    "intens_min_2 = (2282 - untergrund_2) / (3247 - untergrund_1)\n",
    "intens_max_3 = (np.array([2939, 2922, 3110]) - untergrund_3) / (3247 - untergrund_1)\n",
    "intens_min_3 = (np.array([2350, 2318]) - untergrund_3) / (3247 - untergrund_1)"
   ]
  },
  {
   "cell_type": "code",
   "execution_count": 39,
   "metadata": {},
   "outputs": [],
   "source": [
    "# Bestimmung der theoretischen Minima\n",
    "mins_theo_2, min_heights_2 = find_peaks(-f_mod[1], height = (-1, -0.5))\n",
    "mins_theo_3, min_heights_3 = find_peaks(-f_mod[2], height = (-1, -0.5))\n",
    "min_heights_2 = -min_heights_2['peak_heights']\n",
    "min_heights_3 = -min_heights_3['peak_heights']"
   ]
  },
  {
   "cell_type": "code",
   "execution_count": 40,
   "metadata": {},
   "outputs": [
    {
     "name": "stdout",
     "output_type": "stream",
     "text": [
      "n = 2:\n",
      "Maxima (gemessen):  [0.93804594 0.95939825]\n",
      "       (theoretisch):  [0.90661762 0.90661762]\n",
      "       Abweichung:  [1.67520164 2.75071561]\n",
      "Minima (gemessen):  0.6921708185053381\n",
      "       (theoretisch):  [0.58639992]\n",
      "       Abweichung:  [7.64051991]\n",
      "n = 3:\n",
      "Maxima (gemessen):  [0.90423811 0.89873827 0.95956001]\n",
      "       (theoretisch):  [0.88576281 0.81781107 0.88576281]\n",
      "       Abweichung:  [1.02159488 4.50226766 3.84536672]\n",
      "Minima (gemessen):  [0.71368489 0.70333225]\n",
      "       (theoretisch):  [0.61740086 0.61740086]\n",
      "       Abweichung:  [6.74555638 6.10887644]\n"
     ]
    }
   ],
   "source": [
    "print('n = 2:')\n",
    "print('Maxima (gemessen): ', intens_max_2)\n",
    "print('       (theoretisch): ', max_heights_2)\n",
    "print('       Abweichung: ', (intens_max_2 - max_heights_2)/(0.02*intens_max_2))\n",
    "print('Minima (gemessen): ', intens_min_2)\n",
    "print('       (theoretisch): ', min_heights_2)\n",
    "print('       Abweichung: ', (intens_min_2 - min_heights_2)/(0.02*intens_min_2))\n",
    "\n",
    "print('n = 3:')\n",
    "print('Maxima (gemessen): ', intens_max_3)\n",
    "print('       (theoretisch): ', max_heights_3)\n",
    "print('       Abweichung: ', (intens_max_3 - max_heights_3)/(0.02*intens_max_3))\n",
    "print('Minima (gemessen): ', intens_min_3)\n",
    "print('       (theoretisch): ', min_heights_3)\n",
    "print('       Abweichung: ', (intens_min_3 - min_heights_3)/(0.02*intens_min_3))"
   ]
  },
  {
   "cell_type": "markdown",
   "metadata": {},
   "source": [
    "## Äquidistanz bei hoher Ordnung"
   ]
  },
  {
   "cell_type": "code",
   "execution_count": 41,
   "metadata": {},
   "outputs": [
    {
     "name": "stdout",
     "output_type": "stream",
     "text": [
      "[ 9.9  9.9 11.4  9.6  9.4 10.3 10.5  9.7 10.6 11.2  9.7]\n",
      "[10.2 10.6  8.2 11.7 10.1 10.1 11.1 10.5  9.1 10.6]\n",
      "Standardabweichung Maximaabstand:  0.6310164959665001\n",
      "Standardabweichung Minimaabstand:  0.9325234581499761\n"
     ]
    }
   ],
   "source": [
    "maxima_pos = np.array([895.2, 905.1, 915.0, 926.4, 936.0, 945.4, 955.7, 966.2, 975.9, 986.5, 997.7, 1007.4])\n",
    "minima_pos = np.array([900.0, 910.2, 920.8, 929.0, 940.7, 950.8, 960.9, 972.0, 982.5, 991.6, 1002.2])\n",
    "maxima_diff = np.diff(maxima_pos)\n",
    "minima_diff = np.diff(minima_pos)\n",
    "print(maxima_diff)\n",
    "print(minima_diff)\n",
    "print('Standardabweichung Maximaabstand: ', np.std(maxima_diff))\n",
    "print('Standardabweichung Minimaabstand: ', np.std(minima_diff))"
   ]
  },
  {
   "cell_type": "code",
   "execution_count": 42,
   "metadata": {},
   "outputs": [
    {
     "name": "stdout",
     "output_type": "stream",
     "text": [
      "[4.8 5.1 5.1 4.8 5.8 5.6 2.6 7.  4.7 4.7 5.4 4.9 5.2 5.3 5.8 3.9 6.6 4.\n",
      " 5.1 6.1 4.5 5.2]\n",
      "Standardabweichung aller Abstände:  0.905538513813741\n"
     ]
    }
   ],
   "source": [
    "all_pos = np.empty(maxima_pos.size + minima_pos.size)\n",
    "all_pos[0::2] = maxima_pos\n",
    "all_pos[1::2] = minima_pos\n",
    "all_diff = np.diff(all_pos)\n",
    "print(all_diff)\n",
    "print('Standardabweichung aller Abstände: ', np.std(all_diff))"
   ]
  },
  {
   "cell_type": "code",
   "execution_count": 43,
   "metadata": {},
   "outputs": [
    {
     "data": {
      "text/plain": [
       "(array([1., 0., 1., 1., 5., 6., 3., 3., 0., 2.]),\n",
       " array([2.6 , 3.04, 3.48, 3.92, 4.36, 4.8 , 5.24, 5.68, 6.12, 6.56, 7.  ]),\n",
       " <a list of 10 Patch objects>)"
      ]
     },
     "execution_count": 43,
     "metadata": {},
     "output_type": "execute_result"
    },
    {
     "data": {
      "image/png": "[encoded data removed]",
      "text/plain": [
       "<Figure size 432x288 with 1 Axes>"
      ]
     },
     "metadata": {
      "needs_background": "light"
     },
     "output_type": "display_data"
    }
   ],
   "source": [
    "plt.hist(all_diff)"
   ]
  }
 ],
 "metadata": {
  "kernelspec": {
   "display_name": "Python 2",
   "language": "python",
   "name": "python2"
  },
  "language_info": {
   "codemirror_mode": {
    "name": "ipython",
    "version": 2
   },
   "file_extension": ".py",
   "mimetype": "text/x-python",
   "name": "python",
   "nbconvert_exporter": "python",
   "pygments_lexer": "ipython2",
   "version": "2.7.17"
  }
 },
 "nbformat": 4,
 "nbformat_minor": 2
}
